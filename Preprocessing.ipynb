{
 "cells": [
  {
   "cell_type": "code",
   "execution_count": 1,
   "metadata": {},
   "outputs": [],
   "source": [
    "import tensorflow as tf\n",
    "import numpy as np\n",
    "import pandas as pd \n",
    "import regex as re\n",
    "from newspaper import Article \n",
    "import requests\n",
    "\n",
    "import matplotlib.pyplot as plt\n",
    "%matplotlib inline\n"
   ]
  },
  {
   "cell_type": "code",
   "execution_count": 2,
   "metadata": {},
   "outputs": [],
   "source": [
    "# df = pd.read_table(\"newsArticlesWithLabels.tsv\")\n",
    "# dataset from https://deepblue.lib.umich.edu/data/concern/data_sets/8w32r569d?locale=en\n",
    "\n",
    "# df['article'] = df['url']\n",
    "\n",
    "# def getArticle(url):\n",
    "#     try:\n",
    "#         article = Article(url)\n",
    "#         article.download()\n",
    "#         article.parse()\n",
    "#         return(article.text)\n",
    "#     except:\n",
    "#         return(\"badurl\")\n",
    "\n",
    "# df['article'] = df.apply(lambda row: getArticle(row.url), axis = 1) \n",
    "# df.to_csv(\"articledata.csv\", sep='\\t')\n"
   ]
  },
  {
   "cell_type": "code",
   "execution_count": 3,
   "metadata": {},
   "outputs": [
    {
     "data": {
      "text/html": [
       "<div>\n",
       "<style scoped>\n",
       "    .dataframe tbody tr th:only-of-type {\n",
       "        vertical-align: middle;\n",
       "    }\n",
       "\n",
       "    .dataframe tbody tr th {\n",
       "        vertical-align: top;\n",
       "    }\n",
       "\n",
       "    .dataframe thead th {\n",
       "        text-align: right;\n",
       "    }\n",
       "</style>\n",
       "<table border=\"1\" class=\"dataframe\">\n",
       "  <thead>\n",
       "    <tr style=\"text-align: right;\">\n",
       "      <th></th>\n",
       "      <th>url</th>\n",
       "      <th>q3</th>\n",
       "      <th>perceived</th>\n",
       "      <th>primary.topic</th>\n",
       "      <th>secondary.topic</th>\n",
       "      <th>democrat.vote</th>\n",
       "      <th>republican.vote</th>\n",
       "      <th>article</th>\n",
       "    </tr>\n",
       "  </thead>\n",
       "  <tbody>\n",
       "    <tr>\n",
       "      <th>0</th>\n",
       "      <td>http://www.usatoday.com/story/news/nation/2013...</td>\n",
       "      <td>other</td>\n",
       "      <td>1</td>\n",
       "      <td>Civil Rights</td>\n",
       "      <td>Civil Rights</td>\n",
       "      <td>Neutral</td>\n",
       "      <td>Neutral</td>\n",
       "      <td>Maggie Clark\\n\\nPew/Stateline Staff Writer\\n\\n...</td>\n",
       "    </tr>\n",
       "    <tr>\n",
       "      <th>1</th>\n",
       "      <td>http://www.huffingtonpost.com/2013/05/21/senat...</td>\n",
       "      <td>News</td>\n",
       "      <td>0</td>\n",
       "      <td>Civil Rights</td>\n",
       "      <td>Civil Rights</td>\n",
       "      <td>Neutral</td>\n",
       "      <td>Neutral</td>\n",
       "      <td>WASHINGTON -- The Senate Judiciary Committee a...</td>\n",
       "    </tr>\n",
       "    <tr>\n",
       "      <th>2</th>\n",
       "      <td>http://www.washingtonpost.com/opinions/dont-le...</td>\n",
       "      <td>Opinion</td>\n",
       "      <td>1</td>\n",
       "      <td>Civil Rights</td>\n",
       "      <td>Civil Rights</td>\n",
       "      <td>Neutral</td>\n",
       "      <td>Neutral</td>\n",
       "      <td>David Cole is a professor of constitutional la...</td>\n",
       "    </tr>\n",
       "    <tr>\n",
       "      <th>3</th>\n",
       "      <td>http://www.foxnews.com/politics/2013/04/03/oba...</td>\n",
       "      <td>Opinion</td>\n",
       "      <td>1</td>\n",
       "      <td>Civil Rights</td>\n",
       "      <td>Civil Rights</td>\n",
       "      <td>Neutral</td>\n",
       "      <td>Neutral</td>\n",
       "      <td>Parts of ObamaCare are starting to fray, even ...</td>\n",
       "    </tr>\n",
       "    <tr>\n",
       "      <th>4</th>\n",
       "      <td>http://www.breitbart.com/Big-Government/2013/1...</td>\n",
       "      <td>Opinion</td>\n",
       "      <td>1</td>\n",
       "      <td>Civil Rights</td>\n",
       "      <td>Civil Rights</td>\n",
       "      <td>Neutral</td>\n",
       "      <td>Neutral</td>\n",
       "      <td>U.S. Immigration Citizenship and Immigration S...</td>\n",
       "    </tr>\n",
       "  </tbody>\n",
       "</table>\n",
       "</div>"
      ],
      "text/plain": [
       "                                                 url       q3  perceived  \\\n",
       "0  http://www.usatoday.com/story/news/nation/2013...    other          1   \n",
       "1  http://www.huffingtonpost.com/2013/05/21/senat...     News          0   \n",
       "2  http://www.washingtonpost.com/opinions/dont-le...  Opinion          1   \n",
       "3  http://www.foxnews.com/politics/2013/04/03/oba...  Opinion          1   \n",
       "4  http://www.breitbart.com/Big-Government/2013/1...  Opinion          1   \n",
       "\n",
       "  primary.topic secondary.topic democrat.vote republican.vote  \\\n",
       "0  Civil Rights    Civil Rights       Neutral         Neutral   \n",
       "1  Civil Rights    Civil Rights       Neutral         Neutral   \n",
       "2  Civil Rights    Civil Rights       Neutral         Neutral   \n",
       "3  Civil Rights    Civil Rights       Neutral         Neutral   \n",
       "4  Civil Rights    Civil Rights       Neutral         Neutral   \n",
       "\n",
       "                                             article  \n",
       "0  Maggie Clark\\n\\nPew/Stateline Staff Writer\\n\\n...  \n",
       "1  WASHINGTON -- The Senate Judiciary Committee a...  \n",
       "2  David Cole is a professor of constitutional la...  \n",
       "3  Parts of ObamaCare are starting to fray, even ...  \n",
       "4  U.S. Immigration Citizenship and Immigration S...  "
      ]
     },
     "execution_count": 3,
     "metadata": {},
     "output_type": "execute_result"
    }
   ],
   "source": [
    "data = pd.read_table(\"articledata.csv\", sep='\\t', index_col=0)\n",
    "data.head()"
   ]
  },
  {
   "cell_type": "code",
   "execution_count": 4,
   "metadata": {},
   "outputs": [
    {
     "data": {
      "text/plain": [
       "(16590, 8)"
      ]
     },
     "execution_count": 4,
     "metadata": {},
     "output_type": "execute_result"
    }
   ],
   "source": [
    "data = data[data.article != 'badurl']\n",
    "data.dropna(inplace=True)\n",
    "data.reset_index(drop=True, inplace=True)\n",
    "data.shape"
   ]
  },
  {
   "cell_type": "code",
   "execution_count": 5,
   "metadata": {},
   "outputs": [
    {
     "data": {
      "text/html": [
       "<div>\n",
       "<style scoped>\n",
       "    .dataframe tbody tr th:only-of-type {\n",
       "        vertical-align: middle;\n",
       "    }\n",
       "\n",
       "    .dataframe tbody tr th {\n",
       "        vertical-align: top;\n",
       "    }\n",
       "\n",
       "    .dataframe thead th {\n",
       "        text-align: right;\n",
       "    }\n",
       "</style>\n",
       "<table border=\"1\" class=\"dataframe\">\n",
       "  <thead>\n",
       "    <tr style=\"text-align: right;\">\n",
       "      <th></th>\n",
       "      <th>url</th>\n",
       "      <th>q3</th>\n",
       "      <th>perceived</th>\n",
       "      <th>primary.topic</th>\n",
       "      <th>secondary.topic</th>\n",
       "      <th>democrat.vote</th>\n",
       "      <th>republican.vote</th>\n",
       "      <th>article</th>\n",
       "    </tr>\n",
       "  </thead>\n",
       "  <tbody>\n",
       "    <tr>\n",
       "      <th>0</th>\n",
       "      <td>http://www.usatoday.com/story/news/nation/2013...</td>\n",
       "      <td>other</td>\n",
       "      <td>1</td>\n",
       "      <td>Civil Rights</td>\n",
       "      <td>Civil Rights</td>\n",
       "      <td>Neutral</td>\n",
       "      <td>Neutral</td>\n",
       "      <td>Maggie Clark\\n\\nPew/Stateline Staff Writer\\n\\n...</td>\n",
       "    </tr>\n",
       "    <tr>\n",
       "      <th>1</th>\n",
       "      <td>http://www.huffingtonpost.com/2013/05/21/senat...</td>\n",
       "      <td>News</td>\n",
       "      <td>0</td>\n",
       "      <td>Civil Rights</td>\n",
       "      <td>Civil Rights</td>\n",
       "      <td>Neutral</td>\n",
       "      <td>Neutral</td>\n",
       "      <td>WASHINGTON -- The Senate Judiciary Committee a...</td>\n",
       "    </tr>\n",
       "    <tr>\n",
       "      <th>2</th>\n",
       "      <td>http://www.washingtonpost.com/opinions/dont-le...</td>\n",
       "      <td>Opinion</td>\n",
       "      <td>1</td>\n",
       "      <td>Civil Rights</td>\n",
       "      <td>Civil Rights</td>\n",
       "      <td>Neutral</td>\n",
       "      <td>Neutral</td>\n",
       "      <td>David Cole is a professor of constitutional la...</td>\n",
       "    </tr>\n",
       "    <tr>\n",
       "      <th>3</th>\n",
       "      <td>http://www.foxnews.com/politics/2013/04/03/oba...</td>\n",
       "      <td>Opinion</td>\n",
       "      <td>1</td>\n",
       "      <td>Civil Rights</td>\n",
       "      <td>Civil Rights</td>\n",
       "      <td>Neutral</td>\n",
       "      <td>Neutral</td>\n",
       "      <td>Parts of ObamaCare are starting to fray, even ...</td>\n",
       "    </tr>\n",
       "    <tr>\n",
       "      <th>4</th>\n",
       "      <td>http://www.breitbart.com/Big-Government/2013/1...</td>\n",
       "      <td>Opinion</td>\n",
       "      <td>1</td>\n",
       "      <td>Civil Rights</td>\n",
       "      <td>Civil Rights</td>\n",
       "      <td>Neutral</td>\n",
       "      <td>Neutral</td>\n",
       "      <td>U.S. Immigration Citizenship and Immigration S...</td>\n",
       "    </tr>\n",
       "    <tr>\n",
       "      <th>...</th>\n",
       "      <td>...</td>\n",
       "      <td>...</td>\n",
       "      <td>...</td>\n",
       "      <td>...</td>\n",
       "      <td>...</td>\n",
       "      <td>...</td>\n",
       "      <td>...</td>\n",
       "      <td>...</td>\n",
       "    </tr>\n",
       "    <tr>\n",
       "      <th>16585</th>\n",
       "      <td>http://www.washingtonpost.com/opinions/dana-mi...</td>\n",
       "      <td>News</td>\n",
       "      <td>1</td>\n",
       "      <td>Republican Scandals</td>\n",
       "      <td>Republican Scandals</td>\n",
       "      <td>SomewhatPositive</td>\n",
       "      <td>SomewhatNegative</td>\n",
       "      <td>President Obama won reelection in part by beat...</td>\n",
       "    </tr>\n",
       "    <tr>\n",
       "      <th>16586</th>\n",
       "      <td>http://news.yahoo.com/republicans-hatred-obama...</td>\n",
       "      <td>Opinion</td>\n",
       "      <td>1</td>\n",
       "      <td>Republican Scandals</td>\n",
       "      <td>Republican Scandals</td>\n",
       "      <td>SomewhatPositive</td>\n",
       "      <td>SomewhatNegative</td>\n",
       "      <td>Red-faced Republicans, circling and preparing ...</td>\n",
       "    </tr>\n",
       "    <tr>\n",
       "      <th>16587</th>\n",
       "      <td>http://www.washingtonpost.com/opinions/dana-mi...</td>\n",
       "      <td>News</td>\n",
       "      <td>1</td>\n",
       "      <td>Republican Scandals</td>\n",
       "      <td>Republican Scandals</td>\n",
       "      <td>Neutral</td>\n",
       "      <td>Neutral</td>\n",
       "      <td>Rep. Steve Stockman’s moment as a viable Senat...</td>\n",
       "    </tr>\n",
       "    <tr>\n",
       "      <th>16588</th>\n",
       "      <td>http://www.washingtonpost.com/opinions/ej-dion...</td>\n",
       "      <td>News</td>\n",
       "      <td>1</td>\n",
       "      <td>Republican Scandals</td>\n",
       "      <td>Republican Scandals</td>\n",
       "      <td>SomewhatPositive</td>\n",
       "      <td>SomewhatNegative</td>\n",
       "      <td>We interrupt this highly partisan and ideologi...</td>\n",
       "    </tr>\n",
       "    <tr>\n",
       "      <th>16589</th>\n",
       "      <td>http://www.huffingtonpost.com/2013/08/11/this-...</td>\n",
       "      <td>Opinion</td>\n",
       "      <td>1</td>\n",
       "      <td>Republican Scandals</td>\n",
       "      <td>Republican Scandals</td>\n",
       "      <td>SomewhatPositive</td>\n",
       "      <td>SomewhatNegative</td>\n",
       "      <td>FILE - In this Sept. 27, 2012 file photo, Dona...</td>\n",
       "    </tr>\n",
       "  </tbody>\n",
       "</table>\n",
       "<p>16590 rows × 8 columns</p>\n",
       "</div>"
      ],
      "text/plain": [
       "                                                     url       q3  perceived  \\\n",
       "0      http://www.usatoday.com/story/news/nation/2013...    other          1   \n",
       "1      http://www.huffingtonpost.com/2013/05/21/senat...     News          0   \n",
       "2      http://www.washingtonpost.com/opinions/dont-le...  Opinion          1   \n",
       "3      http://www.foxnews.com/politics/2013/04/03/oba...  Opinion          1   \n",
       "4      http://www.breitbart.com/Big-Government/2013/1...  Opinion          1   \n",
       "...                                                  ...      ...        ...   \n",
       "16585  http://www.washingtonpost.com/opinions/dana-mi...     News          1   \n",
       "16586  http://news.yahoo.com/republicans-hatred-obama...  Opinion          1   \n",
       "16587  http://www.washingtonpost.com/opinions/dana-mi...     News          1   \n",
       "16588  http://www.washingtonpost.com/opinions/ej-dion...     News          1   \n",
       "16589  http://www.huffingtonpost.com/2013/08/11/this-...  Opinion          1   \n",
       "\n",
       "             primary.topic      secondary.topic     democrat.vote  \\\n",
       "0             Civil Rights         Civil Rights           Neutral   \n",
       "1             Civil Rights         Civil Rights           Neutral   \n",
       "2             Civil Rights         Civil Rights           Neutral   \n",
       "3             Civil Rights         Civil Rights           Neutral   \n",
       "4             Civil Rights         Civil Rights           Neutral   \n",
       "...                    ...                  ...               ...   \n",
       "16585  Republican Scandals  Republican Scandals  SomewhatPositive   \n",
       "16586  Republican Scandals  Republican Scandals  SomewhatPositive   \n",
       "16587  Republican Scandals  Republican Scandals           Neutral   \n",
       "16588  Republican Scandals  Republican Scandals  SomewhatPositive   \n",
       "16589  Republican Scandals  Republican Scandals  SomewhatPositive   \n",
       "\n",
       "        republican.vote                                            article  \n",
       "0               Neutral  Maggie Clark\\n\\nPew/Stateline Staff Writer\\n\\n...  \n",
       "1               Neutral  WASHINGTON -- The Senate Judiciary Committee a...  \n",
       "2               Neutral  David Cole is a professor of constitutional la...  \n",
       "3               Neutral  Parts of ObamaCare are starting to fray, even ...  \n",
       "4               Neutral  U.S. Immigration Citizenship and Immigration S...  \n",
       "...                 ...                                                ...  \n",
       "16585  SomewhatNegative  President Obama won reelection in part by beat...  \n",
       "16586  SomewhatNegative  Red-faced Republicans, circling and preparing ...  \n",
       "16587           Neutral  Rep. Steve Stockman’s moment as a viable Senat...  \n",
       "16588  SomewhatNegative  We interrupt this highly partisan and ideologi...  \n",
       "16589  SomewhatNegative  FILE - In this Sept. 27, 2012 file photo, Dona...  \n",
       "\n",
       "[16590 rows x 8 columns]"
      ]
     },
     "execution_count": 5,
     "metadata": {},
     "output_type": "execute_result"
    }
   ],
   "source": [
    "data"
   ]
  },
  {
   "cell_type": "code",
   "execution_count": 6,
   "metadata": {},
   "outputs": [],
   "source": [
    "data = data.drop(8)"
   ]
  },
  {
   "cell_type": "code",
   "execution_count": null,
   "metadata": {},
   "outputs": [],
   "source": []
  },
  {
   "cell_type": "code",
   "execution_count": 7,
   "metadata": {},
   "outputs": [],
   "source": [
    "# rex = \"tics cited by Mayors Against Illegal Guns.  Advertisement  For more than two decades, the state has kept centralized records on people who are ineligible under state law to possess firearms for mental health reasons. But because of privacy concerns, as well as differences in state and federal reporting standards, it took years for the state to begin sharing them.  California also goes beyond federal law in trying to keep guns out of the hands of the mentally ill. The state bans firearms possession for five years after someone is placed on a 72-hour psychiatric commitment.  Advertisement  One of the main obstacles in developing the federal mental health database for the background check system is confusion over who should be included. The law says the database should include people who have been judged \\xe2\\x80\\x9cmentally defective.\\xe2\\x80\\x9d  \\xe2\\x80\\x9cNot only is that term highly offensive, it\\xe2\\x80\\x99s completely outdated,\\xe2\\x80\\x9d said Ron Honberg, policy director at the National Alliance on Mental Illness. \\xe2\\x80\\x9cI think there\\xe2\\x80\\x99s a lack of clarity, so states are all over the map on how to interpret it.\\xe2\\x80\\x9d  Advertisement  In Alabama, for example, state officials decided to submit the names of people who had been involuntarily committed to institutions only when they\\xe2\\x80\\x99d also been found guilty of an \\xe2\\x80\\x9cinappropriate use of firearms\\xe2\\x80\\x9d or shown to be a threat to do so. That turned out to be just 243 people, according to a report by Mayors Against Illegal Guns.  Some states have delayed over worries about privacy concerns. Others have antiquated database systems or say they don\\xe2\\x80\\x99t ha\"\n",
    "# ex = r\"{}\".format(rex)\n",
    "# print(rex)\n",
    "# # ex.replace(r'\\\\x.{2}', ' ') \n",
    "# # ex.replace(r'\\x[0-9A-F]{2}', ' ') \n",
    "# # re.sub(r'â', ' ', ex) \n",
    "\n",
    "\n",
    "# newex = re.sub(r'\\\\x.{2}', '', ex)\n",
    "# print(newex)\n",
    "\n",
    "# # newex = ex.replace(r'\\\\x.{2}', '')\n",
    "# # newex"
   ]
  },
  {
   "cell_type": "code",
   "execution_count": 8,
   "metadata": {},
   "outputs": [],
   "source": [
    "# sir = r'foo\\x1Dbar'\n",
    "# print(sir)\n",
    "# sir = re.sub(r'\\\\x[0-9A-F]{2}', '', sir)\n",
    "# print(sir)"
   ]
  },
  {
   "cell_type": "code",
   "execution_count": 9,
   "metadata": {},
   "outputs": [
    {
     "name": "stderr",
     "output_type": "stream",
     "text": [
      "<ipython-input-9-589aad3063b3>:7: FutureWarning: The default value of regex will change from True to False in a future version.\n",
      "  data['article'] = data['article'].str.replace(i, \" \")\n"
     ]
    }
   ],
   "source": [
    "badchars = [\"\\n\", \"/\", \"%.{2}\", \"â\", \"</s>\"]\n",
    "# ,\"\\\\\"\n",
    "# for i in badchars:\n",
    "#     data['article'] = data.apply(lambda row: row.replace(i, \" \"), axis = 1) \n",
    "\n",
    "for i in badchars:\n",
    "    data['article'] = data['article'].str.replace(i, \" \")\n"
   ]
  },
  {
   "cell_type": "code",
   "execution_count": 45,
   "metadata": {},
   "outputs": [
    {
     "name": "stdout",
     "output_type": "stream",
     "text": [
      "foo\u001d",
      "bar\n",
      "foo\u001d",
      "bar\n"
     ]
    }
   ],
   "source": [
    "# sir = \"ewdhwrt<div>wfethnwb<s>werfrth</s>5g5ehbtg</div>\"\n",
    "# print(sir)\n",
    "# sir = re.sub(r'<[^>]*>', '', sir)\n",
    "# print(sir)\n",
    "\n",
    "sir = 'foo\\x1Dbar'\n",
    "print(sir)\n",
    "sir = re.sub(r'\\\\x[0-9A-F]{2}', '', sir)\n",
    "print(sir)"
   ]
  },
  {
   "cell_type": "code",
   "execution_count": 10,
   "metadata": {},
   "outputs": [
    {
     "data": {
      "text/html": [
       "<div>\n",
       "<style scoped>\n",
       "    .dataframe tbody tr th:only-of-type {\n",
       "        vertical-align: middle;\n",
       "    }\n",
       "\n",
       "    .dataframe tbody tr th {\n",
       "        vertical-align: top;\n",
       "    }\n",
       "\n",
       "    .dataframe thead th {\n",
       "        text-align: right;\n",
       "    }\n",
       "</style>\n",
       "<table border=\"1\" class=\"dataframe\">\n",
       "  <thead>\n",
       "    <tr style=\"text-align: right;\">\n",
       "      <th></th>\n",
       "      <th>url</th>\n",
       "      <th>q3</th>\n",
       "      <th>perceived</th>\n",
       "      <th>primary.topic</th>\n",
       "      <th>secondary.topic</th>\n",
       "      <th>democrat.vote</th>\n",
       "      <th>republican.vote</th>\n",
       "      <th>article</th>\n",
       "    </tr>\n",
       "  </thead>\n",
       "  <tbody>\n",
       "    <tr>\n",
       "      <th>0</th>\n",
       "      <td>http://www.usatoday.com/story/news/nation/2013...</td>\n",
       "      <td>other</td>\n",
       "      <td>1</td>\n",
       "      <td>Civil Rights</td>\n",
       "      <td>Civil Rights</td>\n",
       "      <td>Neutral</td>\n",
       "      <td>Neutral</td>\n",
       "      <td>Maggie Clark  Pew Stateline Staff Writer  21 s...</td>\n",
       "    </tr>\n",
       "    <tr>\n",
       "      <th>1</th>\n",
       "      <td>http://www.huffingtonpost.com/2013/05/21/senat...</td>\n",
       "      <td>News</td>\n",
       "      <td>0</td>\n",
       "      <td>Civil Rights</td>\n",
       "      <td>Civil Rights</td>\n",
       "      <td>Neutral</td>\n",
       "      <td>Neutral</td>\n",
       "      <td>WASHINGTON -- The Senate Judiciary Committee a...</td>\n",
       "    </tr>\n",
       "    <tr>\n",
       "      <th>2</th>\n",
       "      <td>http://www.washingtonpost.com/opinions/dont-le...</td>\n",
       "      <td>Opinion</td>\n",
       "      <td>1</td>\n",
       "      <td>Civil Rights</td>\n",
       "      <td>Civil Rights</td>\n",
       "      <td>Neutral</td>\n",
       "      <td>Neutral</td>\n",
       "      <td>David Cole is a professor of constitutional la...</td>\n",
       "    </tr>\n",
       "    <tr>\n",
       "      <th>3</th>\n",
       "      <td>http://www.foxnews.com/politics/2013/04/03/oba...</td>\n",
       "      <td>Opinion</td>\n",
       "      <td>1</td>\n",
       "      <td>Civil Rights</td>\n",
       "      <td>Civil Rights</td>\n",
       "      <td>Neutral</td>\n",
       "      <td>Neutral</td>\n",
       "      <td>Parts of ObamaCare are starting to fray, even ...</td>\n",
       "    </tr>\n",
       "    <tr>\n",
       "      <th>4</th>\n",
       "      <td>http://www.breitbart.com/Big-Government/2013/1...</td>\n",
       "      <td>Opinion</td>\n",
       "      <td>1</td>\n",
       "      <td>Civil Rights</td>\n",
       "      <td>Civil Rights</td>\n",
       "      <td>Neutral</td>\n",
       "      <td>Neutral</td>\n",
       "      <td>U.S. Immigration Citizenship and Immigration S...</td>\n",
       "    </tr>\n",
       "  </tbody>\n",
       "</table>\n",
       "</div>"
      ],
      "text/plain": [
       "                                                 url       q3  perceived  \\\n",
       "0  http://www.usatoday.com/story/news/nation/2013...    other          1   \n",
       "1  http://www.huffingtonpost.com/2013/05/21/senat...     News          0   \n",
       "2  http://www.washingtonpost.com/opinions/dont-le...  Opinion          1   \n",
       "3  http://www.foxnews.com/politics/2013/04/03/oba...  Opinion          1   \n",
       "4  http://www.breitbart.com/Big-Government/2013/1...  Opinion          1   \n",
       "\n",
       "  primary.topic secondary.topic democrat.vote republican.vote  \\\n",
       "0  Civil Rights    Civil Rights       Neutral         Neutral   \n",
       "1  Civil Rights    Civil Rights       Neutral         Neutral   \n",
       "2  Civil Rights    Civil Rights       Neutral         Neutral   \n",
       "3  Civil Rights    Civil Rights       Neutral         Neutral   \n",
       "4  Civil Rights    Civil Rights       Neutral         Neutral   \n",
       "\n",
       "                                             article  \n",
       "0  Maggie Clark  Pew Stateline Staff Writer  21 s...  \n",
       "1  WASHINGTON -- The Senate Judiciary Committee a...  \n",
       "2  David Cole is a professor of constitutional la...  \n",
       "3  Parts of ObamaCare are starting to fray, even ...  \n",
       "4  U.S. Immigration Citizenship and Immigration S...  "
      ]
     },
     "execution_count": 10,
     "metadata": {},
     "output_type": "execute_result"
    }
   ],
   "source": [
    "\n",
    "    \n",
    "# for i in range(len(data['article']):\n",
    "#     temp = data['article'][i]\n",
    "#     temp1 = re.sub(r'\\\\x[0-9A-F]{2}', '', temp)\n",
    "#     temp =  r\"{}\".format(string)\n",
    "#     temp \n",
    "    \n",
    "data['article'] = data['article'].str.replace(r'\\\\x.{2},', ' ', regex=True)  # deal with \"byte\" values (\\xe2\\x80\\x9d )\n",
    "data['article'] = data['article'].str.replace(r'<[^>]*>', ' ', regex=True)  # deal with html tags values (<div>, <br>)\n",
    "data['article'] = data['article'].str.replace(r'(?!(([^\"]*\"){2})*[^\"]*$),', '', regex=True)  # deal with '\"10,000\"' and convert them to '10000' \n",
    "data.head()"
   ]
  },
  {
   "cell_type": "code",
   "execution_count": 11,
   "metadata": {},
   "outputs": [
    {
     "data": {
      "text/html": [
       "<div>\n",
       "<style scoped>\n",
       "    .dataframe tbody tr th:only-of-type {\n",
       "        vertical-align: middle;\n",
       "    }\n",
       "\n",
       "    .dataframe tbody tr th {\n",
       "        vertical-align: top;\n",
       "    }\n",
       "\n",
       "    .dataframe thead th {\n",
       "        text-align: right;\n",
       "    }\n",
       "</style>\n",
       "<table border=\"1\" class=\"dataframe\">\n",
       "  <thead>\n",
       "    <tr style=\"text-align: right;\">\n",
       "      <th></th>\n",
       "      <th>url</th>\n",
       "      <th>q3</th>\n",
       "      <th>perceived</th>\n",
       "      <th>primary.topic</th>\n",
       "      <th>secondary.topic</th>\n",
       "      <th>democrat.vote</th>\n",
       "      <th>republican.vote</th>\n",
       "      <th>article</th>\n",
       "      <th>length</th>\n",
       "    </tr>\n",
       "  </thead>\n",
       "  <tbody>\n",
       "    <tr>\n",
       "      <th>0</th>\n",
       "      <td>http://www.usatoday.com/story/news/nation/2013...</td>\n",
       "      <td>other</td>\n",
       "      <td>1</td>\n",
       "      <td>Civil Rights</td>\n",
       "      <td>Civil Rights</td>\n",
       "      <td>Neutral</td>\n",
       "      <td>Neutral</td>\n",
       "      <td>Maggie Clark  Pew Stateline Staff Writer  21 s...</td>\n",
       "      <td>702</td>\n",
       "    </tr>\n",
       "    <tr>\n",
       "      <th>1</th>\n",
       "      <td>http://www.huffingtonpost.com/2013/05/21/senat...</td>\n",
       "      <td>News</td>\n",
       "      <td>0</td>\n",
       "      <td>Civil Rights</td>\n",
       "      <td>Civil Rights</td>\n",
       "      <td>Neutral</td>\n",
       "      <td>Neutral</td>\n",
       "      <td>WASHINGTON -- The Senate Judiciary Committee a...</td>\n",
       "      <td>1118</td>\n",
       "    </tr>\n",
       "    <tr>\n",
       "      <th>2</th>\n",
       "      <td>http://www.washingtonpost.com/opinions/dont-le...</td>\n",
       "      <td>Opinion</td>\n",
       "      <td>1</td>\n",
       "      <td>Civil Rights</td>\n",
       "      <td>Civil Rights</td>\n",
       "      <td>Neutral</td>\n",
       "      <td>Neutral</td>\n",
       "      <td>David Cole is a professor of constitutional la...</td>\n",
       "      <td>1401</td>\n",
       "    </tr>\n",
       "    <tr>\n",
       "      <th>3</th>\n",
       "      <td>http://www.foxnews.com/politics/2013/04/03/oba...</td>\n",
       "      <td>Opinion</td>\n",
       "      <td>1</td>\n",
       "      <td>Civil Rights</td>\n",
       "      <td>Civil Rights</td>\n",
       "      <td>Neutral</td>\n",
       "      <td>Neutral</td>\n",
       "      <td>Parts of ObamaCare are starting to fray, even ...</td>\n",
       "      <td>798</td>\n",
       "    </tr>\n",
       "    <tr>\n",
       "      <th>4</th>\n",
       "      <td>http://www.breitbart.com/Big-Government/2013/1...</td>\n",
       "      <td>Opinion</td>\n",
       "      <td>1</td>\n",
       "      <td>Civil Rights</td>\n",
       "      <td>Civil Rights</td>\n",
       "      <td>Neutral</td>\n",
       "      <td>Neutral</td>\n",
       "      <td>U.S. Immigration Citizenship and Immigration S...</td>\n",
       "      <td>947</td>\n",
       "    </tr>\n",
       "  </tbody>\n",
       "</table>\n",
       "</div>"
      ],
      "text/plain": [
       "                                                 url       q3  perceived  \\\n",
       "0  http://www.usatoday.com/story/news/nation/2013...    other          1   \n",
       "1  http://www.huffingtonpost.com/2013/05/21/senat...     News          0   \n",
       "2  http://www.washingtonpost.com/opinions/dont-le...  Opinion          1   \n",
       "3  http://www.foxnews.com/politics/2013/04/03/oba...  Opinion          1   \n",
       "4  http://www.breitbart.com/Big-Government/2013/1...  Opinion          1   \n",
       "\n",
       "  primary.topic secondary.topic democrat.vote republican.vote  \\\n",
       "0  Civil Rights    Civil Rights       Neutral         Neutral   \n",
       "1  Civil Rights    Civil Rights       Neutral         Neutral   \n",
       "2  Civil Rights    Civil Rights       Neutral         Neutral   \n",
       "3  Civil Rights    Civil Rights       Neutral         Neutral   \n",
       "4  Civil Rights    Civil Rights       Neutral         Neutral   \n",
       "\n",
       "                                             article  length  \n",
       "0  Maggie Clark  Pew Stateline Staff Writer  21 s...     702  \n",
       "1  WASHINGTON -- The Senate Judiciary Committee a...    1118  \n",
       "2  David Cole is a professor of constitutional la...    1401  \n",
       "3  Parts of ObamaCare are starting to fray, even ...     798  \n",
       "4  U.S. Immigration Citizenship and Immigration S...     947  "
      ]
     },
     "execution_count": 11,
     "metadata": {},
     "output_type": "execute_result"
    }
   ],
   "source": [
    "data['length'] = data['article'].str.split()\n",
    "data['length'] = data['length'].str.len()\n",
    "data = data.reset_index(drop=True)\n",
    "data.head()"
   ]
  },
  {
   "cell_type": "code",
   "execution_count": null,
   "metadata": {},
   "outputs": [],
   "source": []
  },
  {
   "cell_type": "code",
   "execution_count": 12,
   "metadata": {},
   "outputs": [],
   "source": [
    "# for i in range(1000):\n",
    "#     print(data.loc[i].article)\n",
    "#     print()"
   ]
  },
  {
   "cell_type": "code",
   "execution_count": 13,
   "metadata": {},
   "outputs": [
    {
     "data": {
      "image/png": "[encoded data removed]",
      "text/plain": [
       "<Figure size 432x288 with 1 Axes>"
      ]
     },
     "metadata": {
      "needs_background": "light"
     },
     "output_type": "display_data"
    }
   ],
   "source": [
    "plt.hist(data.length, bins = 100)\n",
    "plt.show()"
   ]
  },
  {
   "cell_type": "code",
   "execution_count": 14,
   "metadata": {},
   "outputs": [
    {
     "data": {
      "image/png": "[encoded data removed]",
      "text/plain": [
       "<Figure size 432x288 with 1 Axes>"
      ]
     },
     "metadata": {
      "needs_background": "light"
     },
     "output_type": "display_data"
    }
   ],
   "source": [
    "plt.hist(data[data['length']<100].length, bins = 50)\n",
    "plt.show()"
   ]
  },
  {
   "cell_type": "code",
   "execution_count": 15,
   "metadata": {},
   "outputs": [
    {
     "data": {
      "text/plain": [
       "16589"
      ]
     },
     "execution_count": 15,
     "metadata": {},
     "output_type": "execute_result"
    }
   ],
   "source": [
    "len(data['length'])"
   ]
  },
  {
   "cell_type": "code",
   "execution_count": 16,
   "metadata": {},
   "outputs": [
    {
     "data": {
      "text/plain": [
       "3362"
      ]
     },
     "execution_count": 16,
     "metadata": {},
     "output_type": "execute_result"
    }
   ],
   "source": [
    "len(data[data['length']<100])"
   ]
  },
  {
   "cell_type": "code",
   "execution_count": 17,
   "metadata": {},
   "outputs": [
    {
     "data": {
      "image/png": "[encoded data removed]",
      "text/plain": [
       "<Figure size 432x288 with 1 Axes>"
      ]
     },
     "metadata": {
      "needs_background": "light"
     },
     "output_type": "display_data"
    }
   ],
   "source": [
    "plt.hist(data[data['length']>100].length, bins = 100)\n",
    "plt.show()"
   ]
  },
  {
   "cell_type": "code",
   "execution_count": 18,
   "metadata": {},
   "outputs": [],
   "source": [
    "data = data[data['length']>100]\n",
    "data = data[data['length']<2000]\n"
   ]
  },
  {
   "cell_type": "code",
   "execution_count": 19,
   "metadata": {},
   "outputs": [
    {
     "data": {
      "text/plain": [
       "0.25    374.0\n",
       "0.50    590.0\n",
       "0.75    892.0\n",
       "Name: length, dtype: float64"
      ]
     },
     "execution_count": 19,
     "metadata": {},
     "output_type": "execute_result"
    }
   ],
   "source": [
    "data.length.quantile([.25, .5, .75])"
   ]
  },
  {
   "cell_type": "code",
   "execution_count": 20,
   "metadata": {},
   "outputs": [
    {
     "data": {
      "text/plain": [
       "<AxesSubplot:>"
      ]
     },
     "execution_count": 20,
     "metadata": {},
     "output_type": "execute_result"
    },
    {
     "data": {
      "image/png": "[encoded data removed]",
      "text/plain": [
       "<Figure size 432x288 with 1 Axes>"
      ]
     },
     "metadata": {
      "needs_background": "light"
     },
     "output_type": "display_data"
    }
   ],
   "source": [
    "data['democrat.vote'].value_counts().plot.bar()"
   ]
  },
  {
   "cell_type": "code",
   "execution_count": 21,
   "metadata": {},
   "outputs": [
    {
     "data": {
      "text/plain": [
       "<AxesSubplot:>"
      ]
     },
     "execution_count": 21,
     "metadata": {},
     "output_type": "execute_result"
    },
    {
     "data": {
      "image/png": "[encoded data removed]",
      "text/plain": [
       "<Figure size 432x288 with 1 Axes>"
      ]
     },
     "metadata": {
      "needs_background": "light"
     },
     "output_type": "display_data"
    }
   ],
   "source": [
    "data['republican.vote'].value_counts().plot.bar()"
   ]
  },
  {
   "cell_type": "code",
   "execution_count": 22,
   "metadata": {},
   "outputs": [
    {
     "data": {
      "text/plain": [
       "<AxesSubplot:xlabel='democrat.vote,republican.vote'>"
      ]
     },
     "execution_count": 22,
     "metadata": {},
     "output_type": "execute_result"
    },
    {
     "data": {
      "image/png": "[encoded data removed]",
      "text/plain": [
       "<Figure size 432x288 with 1 Axes>"
      ]
     },
     "metadata": {
      "needs_background": "light"
     },
     "output_type": "display_data"
    }
   ],
   "source": [
    "data[['democrat.vote', 'republican.vote']].value_counts().plot.bar()"
   ]
  },
  {
   "cell_type": "code",
   "execution_count": 23,
   "metadata": {},
   "outputs": [],
   "source": [
    "def numerizeBias(label):\n",
    "    if label==\"SomewhatNegative\":\n",
    "        return -0.5\n",
    "    if label == \"SomewhatPositive\":\n",
    "        return 0.5\n",
    "    if label == \"Negative\":\n",
    "        return -1\n",
    "    if label == \"Positive\":\n",
    "        return 1\n",
    "    return 0"
   ]
  },
  {
   "cell_type": "code",
   "execution_count": 24,
   "metadata": {},
   "outputs": [
    {
     "data": {
      "text/html": [
       "<div>\n",
       "<style scoped>\n",
       "    .dataframe tbody tr th:only-of-type {\n",
       "        vertical-align: middle;\n",
       "    }\n",
       "\n",
       "    .dataframe tbody tr th {\n",
       "        vertical-align: top;\n",
       "    }\n",
       "\n",
       "    .dataframe thead th {\n",
       "        text-align: right;\n",
       "    }\n",
       "</style>\n",
       "<table border=\"1\" class=\"dataframe\">\n",
       "  <thead>\n",
       "    <tr style=\"text-align: right;\">\n",
       "      <th></th>\n",
       "      <th>url</th>\n",
       "      <th>q3</th>\n",
       "      <th>perceived</th>\n",
       "      <th>primary.topic</th>\n",
       "      <th>secondary.topic</th>\n",
       "      <th>democrat.vote</th>\n",
       "      <th>republican.vote</th>\n",
       "      <th>article</th>\n",
       "      <th>length</th>\n",
       "      <th>democrat.bias</th>\n",
       "      <th>republican.bias</th>\n",
       "      <th>isbiased</th>\n",
       "    </tr>\n",
       "  </thead>\n",
       "  <tbody>\n",
       "    <tr>\n",
       "      <th>0</th>\n",
       "      <td>http://www.usatoday.com/story/news/nation/2013...</td>\n",
       "      <td>other</td>\n",
       "      <td>1</td>\n",
       "      <td>Civil Rights</td>\n",
       "      <td>Civil Rights</td>\n",
       "      <td>Neutral</td>\n",
       "      <td>Neutral</td>\n",
       "      <td>Maggie Clark  Pew Stateline Staff Writer  21 s...</td>\n",
       "      <td>702</td>\n",
       "      <td>0.0</td>\n",
       "      <td>0.0</td>\n",
       "      <td>0</td>\n",
       "    </tr>\n",
       "    <tr>\n",
       "      <th>1</th>\n",
       "      <td>http://www.huffingtonpost.com/2013/05/21/senat...</td>\n",
       "      <td>News</td>\n",
       "      <td>0</td>\n",
       "      <td>Civil Rights</td>\n",
       "      <td>Civil Rights</td>\n",
       "      <td>Neutral</td>\n",
       "      <td>Neutral</td>\n",
       "      <td>WASHINGTON -- The Senate Judiciary Committee a...</td>\n",
       "      <td>1118</td>\n",
       "      <td>0.0</td>\n",
       "      <td>0.0</td>\n",
       "      <td>0</td>\n",
       "    </tr>\n",
       "    <tr>\n",
       "      <th>2</th>\n",
       "      <td>http://www.washingtonpost.com/opinions/dont-le...</td>\n",
       "      <td>Opinion</td>\n",
       "      <td>1</td>\n",
       "      <td>Civil Rights</td>\n",
       "      <td>Civil Rights</td>\n",
       "      <td>Neutral</td>\n",
       "      <td>Neutral</td>\n",
       "      <td>David Cole is a professor of constitutional la...</td>\n",
       "      <td>1401</td>\n",
       "      <td>0.0</td>\n",
       "      <td>0.0</td>\n",
       "      <td>0</td>\n",
       "    </tr>\n",
       "    <tr>\n",
       "      <th>3</th>\n",
       "      <td>http://www.foxnews.com/politics/2013/04/03/oba...</td>\n",
       "      <td>Opinion</td>\n",
       "      <td>1</td>\n",
       "      <td>Civil Rights</td>\n",
       "      <td>Civil Rights</td>\n",
       "      <td>Neutral</td>\n",
       "      <td>Neutral</td>\n",
       "      <td>Parts of ObamaCare are starting to fray, even ...</td>\n",
       "      <td>798</td>\n",
       "      <td>0.0</td>\n",
       "      <td>0.0</td>\n",
       "      <td>0</td>\n",
       "    </tr>\n",
       "    <tr>\n",
       "      <th>4</th>\n",
       "      <td>http://www.breitbart.com/Big-Government/2013/1...</td>\n",
       "      <td>Opinion</td>\n",
       "      <td>1</td>\n",
       "      <td>Civil Rights</td>\n",
       "      <td>Civil Rights</td>\n",
       "      <td>Neutral</td>\n",
       "      <td>Neutral</td>\n",
       "      <td>U.S. Immigration Citizenship and Immigration S...</td>\n",
       "      <td>947</td>\n",
       "      <td>0.0</td>\n",
       "      <td>0.0</td>\n",
       "      <td>0</td>\n",
       "    </tr>\n",
       "    <tr>\n",
       "      <th>...</th>\n",
       "      <td>...</td>\n",
       "      <td>...</td>\n",
       "      <td>...</td>\n",
       "      <td>...</td>\n",
       "      <td>...</td>\n",
       "      <td>...</td>\n",
       "      <td>...</td>\n",
       "      <td>...</td>\n",
       "      <td>...</td>\n",
       "      <td>...</td>\n",
       "      <td>...</td>\n",
       "      <td>...</td>\n",
       "    </tr>\n",
       "    <tr>\n",
       "      <th>16584</th>\n",
       "      <td>http://www.washingtonpost.com/opinions/dana-mi...</td>\n",
       "      <td>News</td>\n",
       "      <td>1</td>\n",
       "      <td>Republican Scandals</td>\n",
       "      <td>Republican Scandals</td>\n",
       "      <td>SomewhatPositive</td>\n",
       "      <td>SomewhatNegative</td>\n",
       "      <td>President Obama won reelection in part by beat...</td>\n",
       "      <td>768</td>\n",
       "      <td>0.5</td>\n",
       "      <td>-0.5</td>\n",
       "      <td>1</td>\n",
       "    </tr>\n",
       "    <tr>\n",
       "      <th>16585</th>\n",
       "      <td>http://news.yahoo.com/republicans-hatred-obama...</td>\n",
       "      <td>Opinion</td>\n",
       "      <td>1</td>\n",
       "      <td>Republican Scandals</td>\n",
       "      <td>Republican Scandals</td>\n",
       "      <td>SomewhatPositive</td>\n",
       "      <td>SomewhatNegative</td>\n",
       "      <td>Red-faced Republicans, circling and preparing ...</td>\n",
       "      <td>805</td>\n",
       "      <td>0.5</td>\n",
       "      <td>-0.5</td>\n",
       "      <td>1</td>\n",
       "    </tr>\n",
       "    <tr>\n",
       "      <th>16586</th>\n",
       "      <td>http://www.washingtonpost.com/opinions/dana-mi...</td>\n",
       "      <td>News</td>\n",
       "      <td>1</td>\n",
       "      <td>Republican Scandals</td>\n",
       "      <td>Republican Scandals</td>\n",
       "      <td>Neutral</td>\n",
       "      <td>Neutral</td>\n",
       "      <td>Rep. Steve Stockman’s moment as a viable Senat...</td>\n",
       "      <td>896</td>\n",
       "      <td>0.0</td>\n",
       "      <td>0.0</td>\n",
       "      <td>0</td>\n",
       "    </tr>\n",
       "    <tr>\n",
       "      <th>16587</th>\n",
       "      <td>http://www.washingtonpost.com/opinions/ej-dion...</td>\n",
       "      <td>News</td>\n",
       "      <td>1</td>\n",
       "      <td>Republican Scandals</td>\n",
       "      <td>Republican Scandals</td>\n",
       "      <td>SomewhatPositive</td>\n",
       "      <td>SomewhatNegative</td>\n",
       "      <td>We interrupt this highly partisan and ideologi...</td>\n",
       "      <td>751</td>\n",
       "      <td>0.5</td>\n",
       "      <td>-0.5</td>\n",
       "      <td>1</td>\n",
       "    </tr>\n",
       "    <tr>\n",
       "      <th>16588</th>\n",
       "      <td>http://www.huffingtonpost.com/2013/08/11/this-...</td>\n",
       "      <td>Opinion</td>\n",
       "      <td>1</td>\n",
       "      <td>Republican Scandals</td>\n",
       "      <td>Republican Scandals</td>\n",
       "      <td>SomewhatPositive</td>\n",
       "      <td>SomewhatNegative</td>\n",
       "      <td>FILE - In this Sept. 27, 2012 file photo, Dona...</td>\n",
       "      <td>378</td>\n",
       "      <td>0.5</td>\n",
       "      <td>-0.5</td>\n",
       "      <td>1</td>\n",
       "    </tr>\n",
       "  </tbody>\n",
       "</table>\n",
       "<p>13193 rows × 12 columns</p>\n",
       "</div>"
      ],
      "text/plain": [
       "                                                     url       q3  perceived  \\\n",
       "0      http://www.usatoday.com/story/news/nation/2013...    other          1   \n",
       "1      http://www.huffingtonpost.com/2013/05/21/senat...     News          0   \n",
       "2      http://www.washingtonpost.com/opinions/dont-le...  Opinion          1   \n",
       "3      http://www.foxnews.com/politics/2013/04/03/oba...  Opinion          1   \n",
       "4      http://www.breitbart.com/Big-Government/2013/1...  Opinion          1   \n",
       "...                                                  ...      ...        ...   \n",
       "16584  http://www.washingtonpost.com/opinions/dana-mi...     News          1   \n",
       "16585  http://news.yahoo.com/republicans-hatred-obama...  Opinion          1   \n",
       "16586  http://www.washingtonpost.com/opinions/dana-mi...     News          1   \n",
       "16587  http://www.washingtonpost.com/opinions/ej-dion...     News          1   \n",
       "16588  http://www.huffingtonpost.com/2013/08/11/this-...  Opinion          1   \n",
       "\n",
       "             primary.topic      secondary.topic     democrat.vote  \\\n",
       "0             Civil Rights         Civil Rights           Neutral   \n",
       "1             Civil Rights         Civil Rights           Neutral   \n",
       "2             Civil Rights         Civil Rights           Neutral   \n",
       "3             Civil Rights         Civil Rights           Neutral   \n",
       "4             Civil Rights         Civil Rights           Neutral   \n",
       "...                    ...                  ...               ...   \n",
       "16584  Republican Scandals  Republican Scandals  SomewhatPositive   \n",
       "16585  Republican Scandals  Republican Scandals  SomewhatPositive   \n",
       "16586  Republican Scandals  Republican Scandals           Neutral   \n",
       "16587  Republican Scandals  Republican Scandals  SomewhatPositive   \n",
       "16588  Republican Scandals  Republican Scandals  SomewhatPositive   \n",
       "\n",
       "        republican.vote                                            article  \\\n",
       "0               Neutral  Maggie Clark  Pew Stateline Staff Writer  21 s...   \n",
       "1               Neutral  WASHINGTON -- The Senate Judiciary Committee a...   \n",
       "2               Neutral  David Cole is a professor of constitutional la...   \n",
       "3               Neutral  Parts of ObamaCare are starting to fray, even ...   \n",
       "4               Neutral  U.S. Immigration Citizenship and Immigration S...   \n",
       "...                 ...                                                ...   \n",
       "16584  SomewhatNegative  President Obama won reelection in part by beat...   \n",
       "16585  SomewhatNegative  Red-faced Republicans, circling and preparing ...   \n",
       "16586           Neutral  Rep. Steve Stockman’s moment as a viable Senat...   \n",
       "16587  SomewhatNegative  We interrupt this highly partisan and ideologi...   \n",
       "16588  SomewhatNegative  FILE - In this Sept. 27, 2012 file photo, Dona...   \n",
       "\n",
       "       length  democrat.bias  republican.bias  isbiased  \n",
       "0         702            0.0              0.0         0  \n",
       "1        1118            0.0              0.0         0  \n",
       "2        1401            0.0              0.0         0  \n",
       "3         798            0.0              0.0         0  \n",
       "4         947            0.0              0.0         0  \n",
       "...       ...            ...              ...       ...  \n",
       "16584     768            0.5             -0.5         1  \n",
       "16585     805            0.5             -0.5         1  \n",
       "16586     896            0.0              0.0         0  \n",
       "16587     751            0.5             -0.5         1  \n",
       "16588     378            0.5             -0.5         1  \n",
       "\n",
       "[13193 rows x 12 columns]"
      ]
     },
     "execution_count": 24,
     "metadata": {},
     "output_type": "execute_result"
    }
   ],
   "source": [
    "data[\"democrat.bias\"]= data.apply(lambda row: numerizeBias(row[\"democrat.vote\"]), axis = 1) \n",
    "data[\"republican.bias\"]= data.apply(lambda row: numerizeBias(row[\"republican.vote\"]), axis = 1) \n",
    "\n",
    "# data[\"biasmagnitude.democrat\"]=data.apply(lambda row: row[\"democrat.bias\"] + abs(row[\"republican.bias\"]), axis = 1)\n",
    "# data[\"biasmagnitude.republican\"]=data.apply(lambda row: abs(row[\"democrat.bias\"] + abs(row[\"republican.bias\"]), axis = 1)\n",
    "\n",
    "data[\"isbiased\"] = data.apply(lambda row: 0 if row[\"democrat.bias\"]==0 and row[\"republican.bias\"]==0 else 1, axis = 1)\n",
    "data"
   ]
  },
  {
   "cell_type": "code",
   "execution_count": null,
   "metadata": {},
   "outputs": [],
   "source": []
  },
  {
   "cell_type": "code",
   "execution_count": 25,
   "metadata": {},
   "outputs": [
    {
     "data": {
      "text/plain": [
       "<AxesSubplot:>"
      ]
     },
     "execution_count": 25,
     "metadata": {},
     "output_type": "execute_result"
    },
    {
     "data": {
      "image/png": "[encoded data removed]",
      "text/plain": [
       "<Figure size 432x288 with 1 Axes>"
      ]
     },
     "metadata": {
      "needs_background": "light"
     },
     "output_type": "display_data"
    }
   ],
   "source": [
    "data[\"isbiased\"].value_counts().plot.bar()"
   ]
  },
  {
   "cell_type": "code",
   "execution_count": 26,
   "metadata": {},
   "outputs": [
    {
     "data": {
      "text/plain": [
       "<AxesSubplot:ylabel='Frequency'>"
      ]
     },
     "execution_count": 26,
     "metadata": {},
     "output_type": "execute_result"
    },
    {
     "data": {
      "image/png": "[encoded data removed]",
      "text/plain": [
       "<Figure size 432x288 with 1 Axes>"
      ]
     },
     "metadata": {
      "needs_background": "light"
     },
     "output_type": "display_data"
    }
   ],
   "source": [
    "data[\"democrat.bias\"].plot.hist()"
   ]
  },
  {
   "cell_type": "code",
   "execution_count": 27,
   "metadata": {},
   "outputs": [
    {
     "data": {
      "text/plain": [
       "<AxesSubplot:ylabel='Frequency'>"
      ]
     },
     "execution_count": 27,
     "metadata": {},
     "output_type": "execute_result"
    },
    {
     "data": {
      "image/png": "[encoded data removed]",
      "text/plain": [
       "<Figure size 432x288 with 1 Axes>"
      ]
     },
     "metadata": {
      "needs_background": "light"
     },
     "output_type": "display_data"
    }
   ],
   "source": [
    "data[\"republican.bias\"].plot.hist()"
   ]
  },
  {
   "cell_type": "code",
   "execution_count": 28,
   "metadata": {},
   "outputs": [
    {
     "data": {
      "text/plain": [
       "<AxesSubplot:ylabel='Frequency'>"
      ]
     },
     "execution_count": 28,
     "metadata": {},
     "output_type": "execute_result"
    },
    {
     "data": {
      "image/png": "[encoded data removed]",
      "text/plain": [
       "<Figure size 432x288 with 1 Axes>"
      ]
     },
     "metadata": {
      "needs_background": "light"
     },
     "output_type": "display_data"
    }
   ],
   "source": [
    "data[[\"democrat.bias\", \"republican.bias\"]].plot.hist(alpha=0.5)"
   ]
  },
  {
   "cell_type": "code",
   "execution_count": 29,
   "metadata": {},
   "outputs": [],
   "source": [
    "data[\"biascategories\"] =  data.apply(lambda row: 0 if row[\"democrat.bias\"]==row[\"republican.bias\"] else (1 if row[\"democrat.bias\"]>row[\"republican.bias\"] else -1), axis = 1)\n",
    "# 1 means bias towards democrats over republicans\n",
    "# -1 means bias towards republicans over democrats\n",
    "# 0 equal bias"
   ]
  },
  {
   "cell_type": "code",
   "execution_count": 30,
   "metadata": {},
   "outputs": [
    {
     "data": {
      "text/plain": [
       "<AxesSubplot:ylabel='Frequency'>"
      ]
     },
     "execution_count": 30,
     "metadata": {},
     "output_type": "execute_result"
    },
    {
     "data": {
      "image/png": "[encoded data removed]",
      "text/plain": [
       "<Figure size 432x288 with 1 Axes>"
      ]
     },
     "metadata": {
      "needs_background": "light"
     },
     "output_type": "display_data"
    }
   ],
   "source": [
    "data[\"biascategories\"].plot.hist()"
   ]
  },
  {
   "cell_type": "code",
   "execution_count": 31,
   "metadata": {},
   "outputs": [
    {
     "data": {
      "text/plain": [
       "<AxesSubplot:ylabel='Frequency'>"
      ]
     },
     "execution_count": 31,
     "metadata": {},
     "output_type": "execute_result"
    },
    {
     "data": {
      "image/png": "[encoded data removed]",
      "text/plain": [
       "<Figure size 432x288 with 1 Axes>"
      ]
     },
     "metadata": {
      "needs_background": "light"
     },
     "output_type": "display_data"
    }
   ],
   "source": [
    "data[\"biasmagnitude\"] =  data.apply(lambda row: 0 if row[\"democrat.bias\"]==row[\"republican.bias\"] else row[\"democrat.bias\"]-row[\"republican.bias\"], axis = 1)\n",
    "data[\"biasmagnitude\"].plot.hist()"
   ]
  },
  {
   "cell_type": "code",
   "execution_count": 32,
   "metadata": {},
   "outputs": [
    {
     "data": {
      "text/plain": [
       "<AxesSubplot:ylabel='Frequency'>"
      ]
     },
     "execution_count": 32,
     "metadata": {},
     "output_type": "execute_result"
    },
    {
     "data": {
      "image/png": "[encoded data removed]",
      "text/plain": [
       "<Figure size 432x288 with 1 Axes>"
      ]
     },
     "metadata": {
      "needs_background": "light"
     },
     "output_type": "display_data"
    }
   ],
   "source": [
    "data[\"biasprob\"] =  (data[\"biasmagnitude\"]+2)/4\n",
    "data[\"biasprob\"].plot.hist()"
   ]
  },
  {
   "cell_type": "code",
   "execution_count": 33,
   "metadata": {},
   "outputs": [
    {
     "name": "stdout",
     "output_type": "stream",
     "text": [
      "(13193, 15)\n"
     ]
    }
   ],
   "source": [
    "data.head()\n",
    "print(data.shape)"
   ]
  },
  {
   "cell_type": "code",
   "execution_count": 34,
   "metadata": {},
   "outputs": [
    {
     "name": "stdout",
     "output_type": "stream",
     "text": [
      "(13193, 6)\n"
     ]
    }
   ],
   "source": [
    "saved_data = data[[\"article\", \n",
    "                   \"democrat.bias\", \n",
    "                   \"republican.bias\", \n",
    "                   \"isbiased\", \n",
    "                   \"biascategories\",\n",
    "                   \"biasprob\"]]\n",
    "print(saved_data.shape)"
   ]
  },
  {
   "cell_type": "code",
   "execution_count": 35,
   "metadata": {},
   "outputs": [],
   "source": [
    "data.to_csv(\"biaseddata.csv\", sep='\\t')\n"
   ]
  },
  {
   "cell_type": "code",
   "execution_count": 36,
   "metadata": {},
   "outputs": [],
   "source": [
    "# data[\"biasedforeveryone\"] =  data.apply(lambda row: -99 if row[\"democrat.bias\"]>=0 and row[\"republican.bias\"]>=0 else 0, axis = 1)\n",
    "# # high value of biasdiff means high bias towards democrats and against republicans\n",
    "# # low (negative) value of biasdiff means high bias towards republicans and democrats\n",
    "# data[\"biasedforeveryone\"].plot.hist()"
   ]
  },
  {
   "cell_type": "code",
   "execution_count": null,
   "metadata": {},
   "outputs": [],
   "source": []
  },
  {
   "cell_type": "code",
   "execution_count": 37,
   "metadata": {},
   "outputs": [],
   "source": [
    "data.to_csv(\"biaseddata.csv\", sep='\\t')\n"
   ]
  },
  {
   "cell_type": "code",
   "execution_count": 38,
   "metadata": {},
   "outputs": [
    {
     "data": {
      "text/plain": [
       "url                0\n",
       "q3                 0\n",
       "perceived          0\n",
       "primary.topic      0\n",
       "secondary.topic    0\n",
       "democrat.vote      0\n",
       "republican.vote    0\n",
       "article            0\n",
       "length             0\n",
       "democrat.bias      0\n",
       "republican.bias    0\n",
       "isbiased           0\n",
       "biascategories     0\n",
       "biasmagnitude      0\n",
       "biasprob           0\n",
       "dtype: int64"
      ]
     },
     "execution_count": 38,
     "metadata": {},
     "output_type": "execute_result"
    }
   ],
   "source": [
    "data.isna().sum()"
   ]
  },
  {
   "cell_type": "code",
   "execution_count": 42,
   "metadata": {},
   "outputs": [
    {
     "ename": "NameError",
     "evalue": "name 'NaN' is not defined",
     "output_type": "error",
     "traceback": [
      "\u001b[0;31m---------------------------------------------------------------------------\u001b[0m",
      "\u001b[0;31mNameError\u001b[0m                                 Traceback (most recent call last)",
      "\u001b[0;32m<ipython-input-42-0536170de585>\u001b[0m in \u001b[0;36m<module>\u001b[0;34m\u001b[0m\n\u001b[0;32m----> 1\u001b[0;31m \u001b[0mdata\u001b[0m\u001b[0;34m[\u001b[0m\u001b[0mdata\u001b[0m\u001b[0;34m[\u001b[0m\u001b[0;34m\"article\"\u001b[0m\u001b[0;34m]\u001b[0m\u001b[0;34m==\u001b[0m\u001b[0mNaN\u001b[0m\u001b[0;34m]\u001b[0m\u001b[0;34m\u001b[0m\u001b[0;34m\u001b[0m\u001b[0m\n\u001b[0m",
      "\u001b[0;31mNameError\u001b[0m: name 'NaN' is not defined"
     ]
    }
   ],
   "source": []
  },
  {
   "cell_type": "code",
   "execution_count": null,
   "metadata": {},
   "outputs": [],
   "source": []
  },
  {
   "cell_type": "code",
   "execution_count": null,
   "metadata": {},
   "outputs": [],
   "source": []
  }
 ],
 "metadata": {
  "kernelspec": {
   "display_name": "Python 3",
   "language": "python",
   "name": "python3"
  },
  "language_info": {
   "codemirror_mode": {
    "name": "ipython",
    "version": 3
   },
   "file_extension": ".py",
   "mimetype": "text/x-python",
   "name": "python",
   "nbconvert_exporter": "python",
   "pygments_lexer": "ipython3",
   "version": "3.8.5"
  }
 },
 "nbformat": 4,
 "nbformat_minor": 5
}
