{
 "cells": [
  {
   "cell_type": "code",
   "execution_count": 1,
   "id": "pursuant-decline",
   "metadata": {},
   "outputs": [],
   "source": [
    "import tensorflow as tf\n",
    "import numpy as np\n",
    "import pandas as pd \n",
    "import regex as re\n",
    "from newspaper import Article \n",
    "import requests\n",
    "\n",
    "import matplotlib.pyplot as plt\n",
    "%matplotlib inline\n"
   ]
  },
  {
   "cell_type": "code",
   "execution_count": 2,
   "id": "backed-variable",
   "metadata": {},
   "outputs": [],
   "source": [
    "# df = pd.read_table(\"newsArticlesWithLabels.tsv\")\n",
    "# dataset from https://deepblue.lib.umich.edu/data/concern/data_sets/8w32r569d?locale=en\n",
    "\n",
    "# df['article'] = df['url']\n",
    "\n",
    "# def getArticle(url):\n",
    "#     try:\n",
    "#         article = Article(url)\n",
    "#         article.download()\n",
    "#         article.parse()\n",
    "#         return(article.text)\n",
    "#     except:\n",
    "#         return(\"badurl\")\n",
    "\n",
    "# df['article'] = df.apply(lambda row: getArticle(row.url), axis = 1) \n",
    "# df.to_csv(\"articledata.csv\", sep='\\t')\n"
   ]
  },
  {
   "cell_type": "code",
   "execution_count": 3,
   "id": "velvet-classification",
   "metadata": {},
   "outputs": [
    {
     "data": {
      "text/html": [
       "<div>\n",
       "<style scoped>\n",
       "    .dataframe tbody tr th:only-of-type {\n",
       "        vertical-align: middle;\n",
       "    }\n",
       "\n",
       "    .dataframe tbody tr th {\n",
       "        vertical-align: top;\n",
       "    }\n",
       "\n",
       "    .dataframe thead th {\n",
       "        text-align: right;\n",
       "    }\n",
       "</style>\n",
       "<table border=\"1\" class=\"dataframe\">\n",
       "  <thead>\n",
       "    <tr style=\"text-align: right;\">\n",
       "      <th></th>\n",
       "      <th>url</th>\n",
       "      <th>q3</th>\n",
       "      <th>perceived</th>\n",
       "      <th>primary.topic</th>\n",
       "      <th>secondary.topic</th>\n",
       "      <th>democrat.vote</th>\n",
       "      <th>republican.vote</th>\n",
       "      <th>article</th>\n",
       "    </tr>\n",
       "  </thead>\n",
       "  <tbody>\n",
       "    <tr>\n",
       "      <th>0</th>\n",
       "      <td>http://www.usatoday.com/story/news/nation/2013...</td>\n",
       "      <td>other</td>\n",
       "      <td>1</td>\n",
       "      <td>Civil Rights</td>\n",
       "      <td>Civil Rights</td>\n",
       "      <td>Neutral</td>\n",
       "      <td>Neutral</td>\n",
       "      <td>Maggie Clark\\n\\nPew/Stateline Staff Writer\\n\\n...</td>\n",
       "    </tr>\n",
       "    <tr>\n",
       "      <th>1</th>\n",
       "      <td>http://www.huffingtonpost.com/2013/05/21/senat...</td>\n",
       "      <td>News</td>\n",
       "      <td>0</td>\n",
       "      <td>Civil Rights</td>\n",
       "      <td>Civil Rights</td>\n",
       "      <td>Neutral</td>\n",
       "      <td>Neutral</td>\n",
       "      <td>WASHINGTON -- The Senate Judiciary Committee a...</td>\n",
       "    </tr>\n",
       "    <tr>\n",
       "      <th>2</th>\n",
       "      <td>http://www.washingtonpost.com/opinions/dont-le...</td>\n",
       "      <td>Opinion</td>\n",
       "      <td>1</td>\n",
       "      <td>Civil Rights</td>\n",
       "      <td>Civil Rights</td>\n",
       "      <td>Neutral</td>\n",
       "      <td>Neutral</td>\n",
       "      <td>David Cole is a professor of constitutional la...</td>\n",
       "    </tr>\n",
       "    <tr>\n",
       "      <th>3</th>\n",
       "      <td>http://www.foxnews.com/politics/2013/04/03/oba...</td>\n",
       "      <td>Opinion</td>\n",
       "      <td>1</td>\n",
       "      <td>Civil Rights</td>\n",
       "      <td>Civil Rights</td>\n",
       "      <td>Neutral</td>\n",
       "      <td>Neutral</td>\n",
       "      <td>Parts of ObamaCare are starting to fray, even ...</td>\n",
       "    </tr>\n",
       "    <tr>\n",
       "      <th>4</th>\n",
       "      <td>http://www.breitbart.com/Big-Government/2013/1...</td>\n",
       "      <td>Opinion</td>\n",
       "      <td>1</td>\n",
       "      <td>Civil Rights</td>\n",
       "      <td>Civil Rights</td>\n",
       "      <td>Neutral</td>\n",
       "      <td>Neutral</td>\n",
       "      <td>U.S. Immigration Citizenship and Immigration S...</td>\n",
       "    </tr>\n",
       "  </tbody>\n",
       "</table>\n",
       "</div>"
      ],
      "text/plain": [
       "                                                 url       q3  perceived  \\\n",
       "0  http://www.usatoday.com/story/news/nation/2013...    other          1   \n",
       "1  http://www.huffingtonpost.com/2013/05/21/senat...     News          0   \n",
       "2  http://www.washingtonpost.com/opinions/dont-le...  Opinion          1   \n",
       "3  http://www.foxnews.com/politics/2013/04/03/oba...  Opinion          1   \n",
       "4  http://www.breitbart.com/Big-Government/2013/1...  Opinion          1   \n",
       "\n",
       "  primary.topic secondary.topic democrat.vote republican.vote  \\\n",
       "0  Civil Rights    Civil Rights       Neutral         Neutral   \n",
       "1  Civil Rights    Civil Rights       Neutral         Neutral   \n",
       "2  Civil Rights    Civil Rights       Neutral         Neutral   \n",
       "3  Civil Rights    Civil Rights       Neutral         Neutral   \n",
       "4  Civil Rights    Civil Rights       Neutral         Neutral   \n",
       "\n",
       "                                             article  \n",
       "0  Maggie Clark\\n\\nPew/Stateline Staff Writer\\n\\n...  \n",
       "1  WASHINGTON -- The Senate Judiciary Committee a...  \n",
       "2  David Cole is a professor of constitutional la...  \n",
       "3  Parts of ObamaCare are starting to fray, even ...  \n",
       "4  U.S. Immigration Citizenship and Immigration S...  "
      ]
     },
     "execution_count": 3,
     "metadata": {},
     "output_type": "execute_result"
    }
   ],
   "source": [
    "data = pd.read_table(\"articledata.csv\", sep='\\t', index_col=0)\n",
    "data.head()"
   ]
  },
  {
   "cell_type": "code",
   "execution_count": 4,
   "id": "quantitative-hearing",
   "metadata": {},
   "outputs": [
    {
     "data": {
      "text/plain": [
       "(16590, 8)"
      ]
     },
     "execution_count": 4,
     "metadata": {},
     "output_type": "execute_result"
    }
   ],
   "source": [
    "data = data[data.article != 'badurl']\n",
    "data.dropna(inplace=True)\n",
    "data.reset_index(drop=True, inplace=True)\n",
    "data.shape"
   ]
  },
  {
   "cell_type": "code",
   "execution_count": 5,
   "id": "foster-wagon",
   "metadata": {},
   "outputs": [
    {
     "data": {
      "text/html": [
       "<div>\n",
       "<style scoped>\n",
       "    .dataframe tbody tr th:only-of-type {\n",
       "        vertical-align: middle;\n",
       "    }\n",
       "\n",
       "    .dataframe tbody tr th {\n",
       "        vertical-align: top;\n",
       "    }\n",
       "\n",
       "    .dataframe thead th {\n",
       "        text-align: right;\n",
       "    }\n",
       "</style>\n",
       "<table border=\"1\" class=\"dataframe\">\n",
       "  <thead>\n",
       "    <tr style=\"text-align: right;\">\n",
       "      <th></th>\n",
       "      <th>url</th>\n",
       "      <th>q3</th>\n",
       "      <th>perceived</th>\n",
       "      <th>primary.topic</th>\n",
       "      <th>secondary.topic</th>\n",
       "      <th>democrat.vote</th>\n",
       "      <th>republican.vote</th>\n",
       "      <th>article</th>\n",
       "    </tr>\n",
       "  </thead>\n",
       "  <tbody>\n",
       "    <tr>\n",
       "      <th>0</th>\n",
       "      <td>http://www.usatoday.com/story/news/nation/2013...</td>\n",
       "      <td>other</td>\n",
       "      <td>1</td>\n",
       "      <td>Civil Rights</td>\n",
       "      <td>Civil Rights</td>\n",
       "      <td>Neutral</td>\n",
       "      <td>Neutral</td>\n",
       "      <td>Maggie Clark\\n\\nPew/Stateline Staff Writer\\n\\n...</td>\n",
       "    </tr>\n",
       "    <tr>\n",
       "      <th>1</th>\n",
       "      <td>http://www.huffingtonpost.com/2013/05/21/senat...</td>\n",
       "      <td>News</td>\n",
       "      <td>0</td>\n",
       "      <td>Civil Rights</td>\n",
       "      <td>Civil Rights</td>\n",
       "      <td>Neutral</td>\n",
       "      <td>Neutral</td>\n",
       "      <td>WASHINGTON -- The Senate Judiciary Committee a...</td>\n",
       "    </tr>\n",
       "    <tr>\n",
       "      <th>2</th>\n",
       "      <td>http://www.washingtonpost.com/opinions/dont-le...</td>\n",
       "      <td>Opinion</td>\n",
       "      <td>1</td>\n",
       "      <td>Civil Rights</td>\n",
       "      <td>Civil Rights</td>\n",
       "      <td>Neutral</td>\n",
       "      <td>Neutral</td>\n",
       "      <td>David Cole is a professor of constitutional la...</td>\n",
       "    </tr>\n",
       "    <tr>\n",
       "      <th>3</th>\n",
       "      <td>http://www.foxnews.com/politics/2013/04/03/oba...</td>\n",
       "      <td>Opinion</td>\n",
       "      <td>1</td>\n",
       "      <td>Civil Rights</td>\n",
       "      <td>Civil Rights</td>\n",
       "      <td>Neutral</td>\n",
       "      <td>Neutral</td>\n",
       "      <td>Parts of ObamaCare are starting to fray, even ...</td>\n",
       "    </tr>\n",
       "    <tr>\n",
       "      <th>4</th>\n",
       "      <td>http://www.breitbart.com/Big-Government/2013/1...</td>\n",
       "      <td>Opinion</td>\n",
       "      <td>1</td>\n",
       "      <td>Civil Rights</td>\n",
       "      <td>Civil Rights</td>\n",
       "      <td>Neutral</td>\n",
       "      <td>Neutral</td>\n",
       "      <td>U.S. Immigration Citizenship and Immigration S...</td>\n",
       "    </tr>\n",
       "    <tr>\n",
       "      <th>...</th>\n",
       "      <td>...</td>\n",
       "      <td>...</td>\n",
       "      <td>...</td>\n",
       "      <td>...</td>\n",
       "      <td>...</td>\n",
       "      <td>...</td>\n",
       "      <td>...</td>\n",
       "      <td>...</td>\n",
       "    </tr>\n",
       "    <tr>\n",
       "      <th>16585</th>\n",
       "      <td>http://www.washingtonpost.com/opinions/dana-mi...</td>\n",
       "      <td>News</td>\n",
       "      <td>1</td>\n",
       "      <td>Republican Scandals</td>\n",
       "      <td>Republican Scandals</td>\n",
       "      <td>SomewhatPositive</td>\n",
       "      <td>SomewhatNegative</td>\n",
       "      <td>President Obama won reelection in part by beat...</td>\n",
       "    </tr>\n",
       "    <tr>\n",
       "      <th>16586</th>\n",
       "      <td>http://news.yahoo.com/republicans-hatred-obama...</td>\n",
       "      <td>Opinion</td>\n",
       "      <td>1</td>\n",
       "      <td>Republican Scandals</td>\n",
       "      <td>Republican Scandals</td>\n",
       "      <td>SomewhatPositive</td>\n",
       "      <td>SomewhatNegative</td>\n",
       "      <td>Red-faced Republicans, circling and preparing ...</td>\n",
       "    </tr>\n",
       "    <tr>\n",
       "      <th>16587</th>\n",
       "      <td>http://www.washingtonpost.com/opinions/dana-mi...</td>\n",
       "      <td>News</td>\n",
       "      <td>1</td>\n",
       "      <td>Republican Scandals</td>\n",
       "      <td>Republican Scandals</td>\n",
       "      <td>Neutral</td>\n",
       "      <td>Neutral</td>\n",
       "      <td>Rep. Steve Stockman’s moment as a viable Senat...</td>\n",
       "    </tr>\n",
       "    <tr>\n",
       "      <th>16588</th>\n",
       "      <td>http://www.washingtonpost.com/opinions/ej-dion...</td>\n",
       "      <td>News</td>\n",
       "      <td>1</td>\n",
       "      <td>Republican Scandals</td>\n",
       "      <td>Republican Scandals</td>\n",
       "      <td>SomewhatPositive</td>\n",
       "      <td>SomewhatNegative</td>\n",
       "      <td>We interrupt this highly partisan and ideologi...</td>\n",
       "    </tr>\n",
       "    <tr>\n",
       "      <th>16589</th>\n",
       "      <td>http://www.huffingtonpost.com/2013/08/11/this-...</td>\n",
       "      <td>Opinion</td>\n",
       "      <td>1</td>\n",
       "      <td>Republican Scandals</td>\n",
       "      <td>Republican Scandals</td>\n",
       "      <td>SomewhatPositive</td>\n",
       "      <td>SomewhatNegative</td>\n",
       "      <td>FILE - In this Sept. 27, 2012 file photo, Dona...</td>\n",
       "    </tr>\n",
       "  </tbody>\n",
       "</table>\n",
       "<p>16590 rows × 8 columns</p>\n",
       "</div>"
      ],
      "text/plain": [
       "                                                     url       q3  perceived  \\\n",
       "0      http://www.usatoday.com/story/news/nation/2013...    other          1   \n",
       "1      http://www.huffingtonpost.com/2013/05/21/senat...     News          0   \n",
       "2      http://www.washingtonpost.com/opinions/dont-le...  Opinion          1   \n",
       "3      http://www.foxnews.com/politics/2013/04/03/oba...  Opinion          1   \n",
       "4      http://www.breitbart.com/Big-Government/2013/1...  Opinion          1   \n",
       "...                                                  ...      ...        ...   \n",
       "16585  http://www.washingtonpost.com/opinions/dana-mi...     News          1   \n",
       "16586  http://news.yahoo.com/republicans-hatred-obama...  Opinion          1   \n",
       "16587  http://www.washingtonpost.com/opinions/dana-mi...     News          1   \n",
       "16588  http://www.washingtonpost.com/opinions/ej-dion...     News          1   \n",
       "16589  http://www.huffingtonpost.com/2013/08/11/this-...  Opinion          1   \n",
       "\n",
       "             primary.topic      secondary.topic     democrat.vote  \\\n",
       "0             Civil Rights         Civil Rights           Neutral   \n",
       "1             Civil Rights         Civil Rights           Neutral   \n",
       "2             Civil Rights         Civil Rights           Neutral   \n",
       "3             Civil Rights         Civil Rights           Neutral   \n",
       "4             Civil Rights         Civil Rights           Neutral   \n",
       "...                    ...                  ...               ...   \n",
       "16585  Republican Scandals  Republican Scandals  SomewhatPositive   \n",
       "16586  Republican Scandals  Republican Scandals  SomewhatPositive   \n",
       "16587  Republican Scandals  Republican Scandals           Neutral   \n",
       "16588  Republican Scandals  Republican Scandals  SomewhatPositive   \n",
       "16589  Republican Scandals  Republican Scandals  SomewhatPositive   \n",
       "\n",
       "        republican.vote                                            article  \n",
       "0               Neutral  Maggie Clark\\n\\nPew/Stateline Staff Writer\\n\\n...  \n",
       "1               Neutral  WASHINGTON -- The Senate Judiciary Committee a...  \n",
       "2               Neutral  David Cole is a professor of constitutional la...  \n",
       "3               Neutral  Parts of ObamaCare are starting to fray, even ...  \n",
       "4               Neutral  U.S. Immigration Citizenship and Immigration S...  \n",
       "...                 ...                                                ...  \n",
       "16585  SomewhatNegative  President Obama won reelection in part by beat...  \n",
       "16586  SomewhatNegative  Red-faced Republicans, circling and preparing ...  \n",
       "16587           Neutral  Rep. Steve Stockman’s moment as a viable Senat...  \n",
       "16588  SomewhatNegative  We interrupt this highly partisan and ideologi...  \n",
       "16589  SomewhatNegative  FILE - In this Sept. 27, 2012 file photo, Dona...  \n",
       "\n",
       "[16590 rows x 8 columns]"
      ]
     },
     "execution_count": 5,
     "metadata": {},
     "output_type": "execute_result"
    }
   ],
   "source": [
    "data"
   ]
  },
  {
   "cell_type": "code",
   "execution_count": 6,
   "id": "aging-postcard",
   "metadata": {},
   "outputs": [],
   "source": [
    "data = data.drop(8)"
   ]
  },
  {
   "cell_type": "code",
   "execution_count": 7,
   "id": "sufficient-reward",
   "metadata": {},
   "outputs": [],
   "source": [
    "# print(data.article.to_string())"
   ]
  },
  {
   "cell_type": "code",
   "execution_count": 8,
   "id": "small-cream",
   "metadata": {},
   "outputs": [
    {
     "name": "stderr",
     "output_type": "stream",
     "text": [
      "<ipython-input-8-ef535a47f93b>:7: FutureWarning: The default value of regex will change from True to False in a future version.\n",
      "  data['article'] = data['article'].str.replace(i, \" \")\n",
      "<ipython-input-8-ef535a47f93b>:7: FutureWarning: The default value of regex will change from True to False in a future version. In addition, single character regular expressions will*not* be treated as literal strings when regex=True.\n",
      "  data['article'] = data['article'].str.replace(i, \" \")\n"
     ]
    },
    {
     "data": {
      "text/html": [
       "<div>\n",
       "<style scoped>\n",
       "    .dataframe tbody tr th:only-of-type {\n",
       "        vertical-align: middle;\n",
       "    }\n",
       "\n",
       "    .dataframe tbody tr th {\n",
       "        vertical-align: top;\n",
       "    }\n",
       "\n",
       "    .dataframe thead th {\n",
       "        text-align: right;\n",
       "    }\n",
       "</style>\n",
       "<table border=\"1\" class=\"dataframe\">\n",
       "  <thead>\n",
       "    <tr style=\"text-align: right;\">\n",
       "      <th></th>\n",
       "      <th>url</th>\n",
       "      <th>q3</th>\n",
       "      <th>perceived</th>\n",
       "      <th>primary.topic</th>\n",
       "      <th>secondary.topic</th>\n",
       "      <th>democrat.vote</th>\n",
       "      <th>republican.vote</th>\n",
       "      <th>article</th>\n",
       "    </tr>\n",
       "  </thead>\n",
       "  <tbody>\n",
       "    <tr>\n",
       "      <th>0</th>\n",
       "      <td>http://www.usatoday.com/story/news/nation/2013...</td>\n",
       "      <td>other</td>\n",
       "      <td>1</td>\n",
       "      <td>Civil Rights</td>\n",
       "      <td>Civil Rights</td>\n",
       "      <td>Neutral</td>\n",
       "      <td>Neutral</td>\n",
       "      <td>Maggie Clark  Pew Stateline Staff Writer  21 s...</td>\n",
       "    </tr>\n",
       "    <tr>\n",
       "      <th>1</th>\n",
       "      <td>http://www.huffingtonpost.com/2013/05/21/senat...</td>\n",
       "      <td>News</td>\n",
       "      <td>0</td>\n",
       "      <td>Civil Rights</td>\n",
       "      <td>Civil Rights</td>\n",
       "      <td>Neutral</td>\n",
       "      <td>Neutral</td>\n",
       "      <td>WASHINGTON -- The Senate Judiciary Committee a...</td>\n",
       "    </tr>\n",
       "    <tr>\n",
       "      <th>2</th>\n",
       "      <td>http://www.washingtonpost.com/opinions/dont-le...</td>\n",
       "      <td>Opinion</td>\n",
       "      <td>1</td>\n",
       "      <td>Civil Rights</td>\n",
       "      <td>Civil Rights</td>\n",
       "      <td>Neutral</td>\n",
       "      <td>Neutral</td>\n",
       "      <td>David Cole is a professor of constitutional la...</td>\n",
       "    </tr>\n",
       "    <tr>\n",
       "      <th>3</th>\n",
       "      <td>http://www.foxnews.com/politics/2013/04/03/oba...</td>\n",
       "      <td>Opinion</td>\n",
       "      <td>1</td>\n",
       "      <td>Civil Rights</td>\n",
       "      <td>Civil Rights</td>\n",
       "      <td>Neutral</td>\n",
       "      <td>Neutral</td>\n",
       "      <td>Parts of ObamaCare are starting to fray, even ...</td>\n",
       "    </tr>\n",
       "    <tr>\n",
       "      <th>4</th>\n",
       "      <td>http://www.breitbart.com/Big-Government/2013/1...</td>\n",
       "      <td>Opinion</td>\n",
       "      <td>1</td>\n",
       "      <td>Civil Rights</td>\n",
       "      <td>Civil Rights</td>\n",
       "      <td>Neutral</td>\n",
       "      <td>Neutral</td>\n",
       "      <td>U.S. Immigration Citizenship and Immigration S...</td>\n",
       "    </tr>\n",
       "  </tbody>\n",
       "</table>\n",
       "</div>"
      ],
      "text/plain": [
       "                                                 url       q3  perceived  \\\n",
       "0  http://www.usatoday.com/story/news/nation/2013...    other          1   \n",
       "1  http://www.huffingtonpost.com/2013/05/21/senat...     News          0   \n",
       "2  http://www.washingtonpost.com/opinions/dont-le...  Opinion          1   \n",
       "3  http://www.foxnews.com/politics/2013/04/03/oba...  Opinion          1   \n",
       "4  http://www.breitbart.com/Big-Government/2013/1...  Opinion          1   \n",
       "\n",
       "  primary.topic secondary.topic democrat.vote republican.vote  \\\n",
       "0  Civil Rights    Civil Rights       Neutral         Neutral   \n",
       "1  Civil Rights    Civil Rights       Neutral         Neutral   \n",
       "2  Civil Rights    Civil Rights       Neutral         Neutral   \n",
       "3  Civil Rights    Civil Rights       Neutral         Neutral   \n",
       "4  Civil Rights    Civil Rights       Neutral         Neutral   \n",
       "\n",
       "                                             article  \n",
       "0  Maggie Clark  Pew Stateline Staff Writer  21 s...  \n",
       "1  WASHINGTON -- The Senate Judiciary Committee a...  \n",
       "2  David Cole is a professor of constitutional la...  \n",
       "3  Parts of ObamaCare are starting to fray, even ...  \n",
       "4  U.S. Immigration Citizenship and Immigration S...  "
      ]
     },
     "execution_count": 8,
     "metadata": {},
     "output_type": "execute_result"
    }
   ],
   "source": [
    "badchars = [\"\\n\", \"/\", \"%.{2}\", \"\\\\\"]\n",
    "\n",
    "# for i in badchars:\n",
    "#     data['article'] = data.apply(lambda row: row.replace(i, \" \"), axis = 1) \n",
    "\n",
    "for i in badchars:\n",
    "    data['article'] = data['article'].str.replace(i, \" \")\n",
    "\n",
    "data.head()"
   ]
  },
  {
   "cell_type": "code",
   "execution_count": 9,
   "id": "incorporated-flexibility",
   "metadata": {},
   "outputs": [
    {
     "data": {
      "text/html": [
       "<div>\n",
       "<style scoped>\n",
       "    .dataframe tbody tr th:only-of-type {\n",
       "        vertical-align: middle;\n",
       "    }\n",
       "\n",
       "    .dataframe tbody tr th {\n",
       "        vertical-align: top;\n",
       "    }\n",
       "\n",
       "    .dataframe thead th {\n",
       "        text-align: right;\n",
       "    }\n",
       "</style>\n",
       "<table border=\"1\" class=\"dataframe\">\n",
       "  <thead>\n",
       "    <tr style=\"text-align: right;\">\n",
       "      <th></th>\n",
       "      <th>url</th>\n",
       "      <th>q3</th>\n",
       "      <th>perceived</th>\n",
       "      <th>primary.topic</th>\n",
       "      <th>secondary.topic</th>\n",
       "      <th>democrat.vote</th>\n",
       "      <th>republican.vote</th>\n",
       "      <th>article</th>\n",
       "      <th>length</th>\n",
       "    </tr>\n",
       "  </thead>\n",
       "  <tbody>\n",
       "    <tr>\n",
       "      <th>0</th>\n",
       "      <td>http://www.usatoday.com/story/news/nation/2013...</td>\n",
       "      <td>other</td>\n",
       "      <td>1</td>\n",
       "      <td>Civil Rights</td>\n",
       "      <td>Civil Rights</td>\n",
       "      <td>Neutral</td>\n",
       "      <td>Neutral</td>\n",
       "      <td>Maggie Clark  Pew Stateline Staff Writer  21 s...</td>\n",
       "      <td>702</td>\n",
       "    </tr>\n",
       "    <tr>\n",
       "      <th>1</th>\n",
       "      <td>http://www.huffingtonpost.com/2013/05/21/senat...</td>\n",
       "      <td>News</td>\n",
       "      <td>0</td>\n",
       "      <td>Civil Rights</td>\n",
       "      <td>Civil Rights</td>\n",
       "      <td>Neutral</td>\n",
       "      <td>Neutral</td>\n",
       "      <td>WASHINGTON -- The Senate Judiciary Committee a...</td>\n",
       "      <td>1118</td>\n",
       "    </tr>\n",
       "    <tr>\n",
       "      <th>2</th>\n",
       "      <td>http://www.washingtonpost.com/opinions/dont-le...</td>\n",
       "      <td>Opinion</td>\n",
       "      <td>1</td>\n",
       "      <td>Civil Rights</td>\n",
       "      <td>Civil Rights</td>\n",
       "      <td>Neutral</td>\n",
       "      <td>Neutral</td>\n",
       "      <td>David Cole is a professor of constitutional la...</td>\n",
       "      <td>1401</td>\n",
       "    </tr>\n",
       "    <tr>\n",
       "      <th>3</th>\n",
       "      <td>http://www.foxnews.com/politics/2013/04/03/oba...</td>\n",
       "      <td>Opinion</td>\n",
       "      <td>1</td>\n",
       "      <td>Civil Rights</td>\n",
       "      <td>Civil Rights</td>\n",
       "      <td>Neutral</td>\n",
       "      <td>Neutral</td>\n",
       "      <td>Parts of ObamaCare are starting to fray, even ...</td>\n",
       "      <td>798</td>\n",
       "    </tr>\n",
       "    <tr>\n",
       "      <th>4</th>\n",
       "      <td>http://www.breitbart.com/Big-Government/2013/1...</td>\n",
       "      <td>Opinion</td>\n",
       "      <td>1</td>\n",
       "      <td>Civil Rights</td>\n",
       "      <td>Civil Rights</td>\n",
       "      <td>Neutral</td>\n",
       "      <td>Neutral</td>\n",
       "      <td>U.S. Immigration Citizenship and Immigration S...</td>\n",
       "      <td>947</td>\n",
       "    </tr>\n",
       "  </tbody>\n",
       "</table>\n",
       "</div>"
      ],
      "text/plain": [
       "                                                 url       q3  perceived  \\\n",
       "0  http://www.usatoday.com/story/news/nation/2013...    other          1   \n",
       "1  http://www.huffingtonpost.com/2013/05/21/senat...     News          0   \n",
       "2  http://www.washingtonpost.com/opinions/dont-le...  Opinion          1   \n",
       "3  http://www.foxnews.com/politics/2013/04/03/oba...  Opinion          1   \n",
       "4  http://www.breitbart.com/Big-Government/2013/1...  Opinion          1   \n",
       "\n",
       "  primary.topic secondary.topic democrat.vote republican.vote  \\\n",
       "0  Civil Rights    Civil Rights       Neutral         Neutral   \n",
       "1  Civil Rights    Civil Rights       Neutral         Neutral   \n",
       "2  Civil Rights    Civil Rights       Neutral         Neutral   \n",
       "3  Civil Rights    Civil Rights       Neutral         Neutral   \n",
       "4  Civil Rights    Civil Rights       Neutral         Neutral   \n",
       "\n",
       "                                             article  length  \n",
       "0  Maggie Clark  Pew Stateline Staff Writer  21 s...     702  \n",
       "1  WASHINGTON -- The Senate Judiciary Committee a...    1118  \n",
       "2  David Cole is a professor of constitutional la...    1401  \n",
       "3  Parts of ObamaCare are starting to fray, even ...     798  \n",
       "4  U.S. Immigration Citizenship and Immigration S...     947  "
      ]
     },
     "execution_count": 9,
     "metadata": {},
     "output_type": "execute_result"
    }
   ],
   "source": [
    "data['length'] = data['article'].str.split()\n",
    "data['length'] = data['length'].str.len()\n",
    "data = data.reset_index(drop=True)\n",
    "data.head()"
   ]
  },
  {
   "cell_type": "code",
   "execution_count": null,
   "id": "incoming-split",
   "metadata": {},
   "outputs": [],
   "source": []
  },
  {
   "cell_type": "code",
   "execution_count": 10,
   "id": "threaded-retention",
   "metadata": {},
   "outputs": [],
   "source": [
    "# for i in range(1000):\n",
    "#     print(data.loc[i].article)\n",
    "#     print()"
   ]
  },
  {
   "cell_type": "code",
   "execution_count": 11,
   "id": "intensive-italic",
   "metadata": {},
   "outputs": [
    {
     "data": {
      "image/png": "[encoded data removed]",
      "text/plain": [
       "<Figure size 432x288 with 1 Axes>"
      ]
     },
     "metadata": {
      "needs_background": "light"
     },
     "output_type": "display_data"
    }
   ],
   "source": [
    "plt.hist(data.length)\n",
    "plt.show()"
   ]
  },
  {
   "cell_type": "code",
   "execution_count": 12,
   "id": "transsexual-scratch",
   "metadata": {},
   "outputs": [
    {
     "data": {
      "text/plain": [
       "0.25    193.0\n",
       "0.50    467.0\n",
       "0.75    810.0\n",
       "Name: length, dtype: float64"
      ]
     },
     "execution_count": 12,
     "metadata": {},
     "output_type": "execute_result"
    }
   ],
   "source": [
    "data.length.quantile([.25, .5, .75])"
   ]
  },
  {
   "cell_type": "code",
   "execution_count": 13,
   "id": "verified-deadline",
   "metadata": {},
   "outputs": [
    {
     "data": {
      "text/plain": [
       "<AxesSubplot:>"
      ]
     },
     "execution_count": 13,
     "metadata": {},
     "output_type": "execute_result"
    },
    {
     "data": {
      "image/png": "[encoded data removed]",
      "text/plain": [
       "<Figure size 432x288 with 1 Axes>"
      ]
     },
     "metadata": {
      "needs_background": "light"
     },
     "output_type": "display_data"
    }
   ],
   "source": [
    "data['democrat.vote'].value_counts().plot.bar()"
   ]
  },
  {
   "cell_type": "code",
   "execution_count": 14,
   "id": "adapted-aquatic",
   "metadata": {},
   "outputs": [
    {
     "data": {
      "text/plain": [
       "<AxesSubplot:>"
      ]
     },
     "execution_count": 14,
     "metadata": {},
     "output_type": "execute_result"
    },
    {
     "data": {
      "image/png": "[encoded data removed]",
      "text/plain": [
       "<Figure size 432x288 with 1 Axes>"
      ]
     },
     "metadata": {
      "needs_background": "light"
     },
     "output_type": "display_data"
    }
   ],
   "source": [
    "data['republican.vote'].value_counts().plot.bar()"
   ]
  },
  {
   "cell_type": "code",
   "execution_count": 15,
   "id": "chubby-catalyst",
   "metadata": {},
   "outputs": [
    {
     "data": {
      "text/plain": [
       "<AxesSubplot:xlabel='democrat.vote,republican.vote'>"
      ]
     },
     "execution_count": 15,
     "metadata": {},
     "output_type": "execute_result"
    },
    {
     "data": {
      "image/png": "[encoded data removed]",
      "text/plain": [
       "<Figure size 432x288 with 1 Axes>"
      ]
     },
     "metadata": {
      "needs_background": "light"
     },
     "output_type": "display_data"
    }
   ],
   "source": [
    "data[['democrat.vote', 'republican.vote']].value_counts().plot.bar()"
   ]
  },
  {
   "cell_type": "code",
   "execution_count": 16,
   "id": "japanese-keeping",
   "metadata": {},
   "outputs": [],
   "source": [
    "def numerizeBias(label):\n",
    "    if label==\"SomewhatNegative\":\n",
    "        return -0.5\n",
    "    if label == \"SomewhatPositive\":\n",
    "        return 0.5\n",
    "    if label == \"Negative\":\n",
    "        return -1\n",
    "    if label == \"Positive\":\n",
    "        return 1\n",
    "    return 0"
   ]
  },
  {
   "cell_type": "code",
   "execution_count": 17,
   "id": "metropolitan-marking",
   "metadata": {},
   "outputs": [
    {
     "data": {
      "text/html": [
       "<div>\n",
       "<style scoped>\n",
       "    .dataframe tbody tr th:only-of-type {\n",
       "        vertical-align: middle;\n",
       "    }\n",
       "\n",
       "    .dataframe tbody tr th {\n",
       "        vertical-align: top;\n",
       "    }\n",
       "\n",
       "    .dataframe thead th {\n",
       "        text-align: right;\n",
       "    }\n",
       "</style>\n",
       "<table border=\"1\" class=\"dataframe\">\n",
       "  <thead>\n",
       "    <tr style=\"text-align: right;\">\n",
       "      <th></th>\n",
       "      <th>url</th>\n",
       "      <th>q3</th>\n",
       "      <th>perceived</th>\n",
       "      <th>primary.topic</th>\n",
       "      <th>secondary.topic</th>\n",
       "      <th>democrat.vote</th>\n",
       "      <th>republican.vote</th>\n",
       "      <th>article</th>\n",
       "      <th>length</th>\n",
       "      <th>democrat.bias</th>\n",
       "      <th>republican.bias</th>\n",
       "      <th>isbiased</th>\n",
       "    </tr>\n",
       "  </thead>\n",
       "  <tbody>\n",
       "    <tr>\n",
       "      <th>0</th>\n",
       "      <td>http://www.usatoday.com/story/news/nation/2013...</td>\n",
       "      <td>other</td>\n",
       "      <td>1</td>\n",
       "      <td>Civil Rights</td>\n",
       "      <td>Civil Rights</td>\n",
       "      <td>Neutral</td>\n",
       "      <td>Neutral</td>\n",
       "      <td>Maggie Clark  Pew Stateline Staff Writer  21 s...</td>\n",
       "      <td>702</td>\n",
       "      <td>0.0</td>\n",
       "      <td>0.0</td>\n",
       "      <td>0</td>\n",
       "    </tr>\n",
       "    <tr>\n",
       "      <th>1</th>\n",
       "      <td>http://www.huffingtonpost.com/2013/05/21/senat...</td>\n",
       "      <td>News</td>\n",
       "      <td>0</td>\n",
       "      <td>Civil Rights</td>\n",
       "      <td>Civil Rights</td>\n",
       "      <td>Neutral</td>\n",
       "      <td>Neutral</td>\n",
       "      <td>WASHINGTON -- The Senate Judiciary Committee a...</td>\n",
       "      <td>1118</td>\n",
       "      <td>0.0</td>\n",
       "      <td>0.0</td>\n",
       "      <td>0</td>\n",
       "    </tr>\n",
       "    <tr>\n",
       "      <th>2</th>\n",
       "      <td>http://www.washingtonpost.com/opinions/dont-le...</td>\n",
       "      <td>Opinion</td>\n",
       "      <td>1</td>\n",
       "      <td>Civil Rights</td>\n",
       "      <td>Civil Rights</td>\n",
       "      <td>Neutral</td>\n",
       "      <td>Neutral</td>\n",
       "      <td>David Cole is a professor of constitutional la...</td>\n",
       "      <td>1401</td>\n",
       "      <td>0.0</td>\n",
       "      <td>0.0</td>\n",
       "      <td>0</td>\n",
       "    </tr>\n",
       "    <tr>\n",
       "      <th>3</th>\n",
       "      <td>http://www.foxnews.com/politics/2013/04/03/oba...</td>\n",
       "      <td>Opinion</td>\n",
       "      <td>1</td>\n",
       "      <td>Civil Rights</td>\n",
       "      <td>Civil Rights</td>\n",
       "      <td>Neutral</td>\n",
       "      <td>Neutral</td>\n",
       "      <td>Parts of ObamaCare are starting to fray, even ...</td>\n",
       "      <td>798</td>\n",
       "      <td>0.0</td>\n",
       "      <td>0.0</td>\n",
       "      <td>0</td>\n",
       "    </tr>\n",
       "    <tr>\n",
       "      <th>4</th>\n",
       "      <td>http://www.breitbart.com/Big-Government/2013/1...</td>\n",
       "      <td>Opinion</td>\n",
       "      <td>1</td>\n",
       "      <td>Civil Rights</td>\n",
       "      <td>Civil Rights</td>\n",
       "      <td>Neutral</td>\n",
       "      <td>Neutral</td>\n",
       "      <td>U.S. Immigration Citizenship and Immigration S...</td>\n",
       "      <td>947</td>\n",
       "      <td>0.0</td>\n",
       "      <td>0.0</td>\n",
       "      <td>0</td>\n",
       "    </tr>\n",
       "    <tr>\n",
       "      <th>...</th>\n",
       "      <td>...</td>\n",
       "      <td>...</td>\n",
       "      <td>...</td>\n",
       "      <td>...</td>\n",
       "      <td>...</td>\n",
       "      <td>...</td>\n",
       "      <td>...</td>\n",
       "      <td>...</td>\n",
       "      <td>...</td>\n",
       "      <td>...</td>\n",
       "      <td>...</td>\n",
       "      <td>...</td>\n",
       "    </tr>\n",
       "    <tr>\n",
       "      <th>16584</th>\n",
       "      <td>http://www.washingtonpost.com/opinions/dana-mi...</td>\n",
       "      <td>News</td>\n",
       "      <td>1</td>\n",
       "      <td>Republican Scandals</td>\n",
       "      <td>Republican Scandals</td>\n",
       "      <td>SomewhatPositive</td>\n",
       "      <td>SomewhatNegative</td>\n",
       "      <td>President Obama won reelection in part by beat...</td>\n",
       "      <td>768</td>\n",
       "      <td>0.5</td>\n",
       "      <td>-0.5</td>\n",
       "      <td>1</td>\n",
       "    </tr>\n",
       "    <tr>\n",
       "      <th>16585</th>\n",
       "      <td>http://news.yahoo.com/republicans-hatred-obama...</td>\n",
       "      <td>Opinion</td>\n",
       "      <td>1</td>\n",
       "      <td>Republican Scandals</td>\n",
       "      <td>Republican Scandals</td>\n",
       "      <td>SomewhatPositive</td>\n",
       "      <td>SomewhatNegative</td>\n",
       "      <td>Red-faced Republicans, circling and preparing ...</td>\n",
       "      <td>805</td>\n",
       "      <td>0.5</td>\n",
       "      <td>-0.5</td>\n",
       "      <td>1</td>\n",
       "    </tr>\n",
       "    <tr>\n",
       "      <th>16586</th>\n",
       "      <td>http://www.washingtonpost.com/opinions/dana-mi...</td>\n",
       "      <td>News</td>\n",
       "      <td>1</td>\n",
       "      <td>Republican Scandals</td>\n",
       "      <td>Republican Scandals</td>\n",
       "      <td>Neutral</td>\n",
       "      <td>Neutral</td>\n",
       "      <td>Rep. Steve Stockman’s moment as a viable Senat...</td>\n",
       "      <td>896</td>\n",
       "      <td>0.0</td>\n",
       "      <td>0.0</td>\n",
       "      <td>0</td>\n",
       "    </tr>\n",
       "    <tr>\n",
       "      <th>16587</th>\n",
       "      <td>http://www.washingtonpost.com/opinions/ej-dion...</td>\n",
       "      <td>News</td>\n",
       "      <td>1</td>\n",
       "      <td>Republican Scandals</td>\n",
       "      <td>Republican Scandals</td>\n",
       "      <td>SomewhatPositive</td>\n",
       "      <td>SomewhatNegative</td>\n",
       "      <td>We interrupt this highly partisan and ideologi...</td>\n",
       "      <td>751</td>\n",
       "      <td>0.5</td>\n",
       "      <td>-0.5</td>\n",
       "      <td>1</td>\n",
       "    </tr>\n",
       "    <tr>\n",
       "      <th>16588</th>\n",
       "      <td>http://www.huffingtonpost.com/2013/08/11/this-...</td>\n",
       "      <td>Opinion</td>\n",
       "      <td>1</td>\n",
       "      <td>Republican Scandals</td>\n",
       "      <td>Republican Scandals</td>\n",
       "      <td>SomewhatPositive</td>\n",
       "      <td>SomewhatNegative</td>\n",
       "      <td>FILE - In this Sept. 27, 2012 file photo, Dona...</td>\n",
       "      <td>378</td>\n",
       "      <td>0.5</td>\n",
       "      <td>-0.5</td>\n",
       "      <td>1</td>\n",
       "    </tr>\n",
       "  </tbody>\n",
       "</table>\n",
       "<p>16589 rows × 12 columns</p>\n",
       "</div>"
      ],
      "text/plain": [
       "                                                     url       q3  perceived  \\\n",
       "0      http://www.usatoday.com/story/news/nation/2013...    other          1   \n",
       "1      http://www.huffingtonpost.com/2013/05/21/senat...     News          0   \n",
       "2      http://www.washingtonpost.com/opinions/dont-le...  Opinion          1   \n",
       "3      http://www.foxnews.com/politics/2013/04/03/oba...  Opinion          1   \n",
       "4      http://www.breitbart.com/Big-Government/2013/1...  Opinion          1   \n",
       "...                                                  ...      ...        ...   \n",
       "16584  http://www.washingtonpost.com/opinions/dana-mi...     News          1   \n",
       "16585  http://news.yahoo.com/republicans-hatred-obama...  Opinion          1   \n",
       "16586  http://www.washingtonpost.com/opinions/dana-mi...     News          1   \n",
       "16587  http://www.washingtonpost.com/opinions/ej-dion...     News          1   \n",
       "16588  http://www.huffingtonpost.com/2013/08/11/this-...  Opinion          1   \n",
       "\n",
       "             primary.topic      secondary.topic     democrat.vote  \\\n",
       "0             Civil Rights         Civil Rights           Neutral   \n",
       "1             Civil Rights         Civil Rights           Neutral   \n",
       "2             Civil Rights         Civil Rights           Neutral   \n",
       "3             Civil Rights         Civil Rights           Neutral   \n",
       "4             Civil Rights         Civil Rights           Neutral   \n",
       "...                    ...                  ...               ...   \n",
       "16584  Republican Scandals  Republican Scandals  SomewhatPositive   \n",
       "16585  Republican Scandals  Republican Scandals  SomewhatPositive   \n",
       "16586  Republican Scandals  Republican Scandals           Neutral   \n",
       "16587  Republican Scandals  Republican Scandals  SomewhatPositive   \n",
       "16588  Republican Scandals  Republican Scandals  SomewhatPositive   \n",
       "\n",
       "        republican.vote                                            article  \\\n",
       "0               Neutral  Maggie Clark  Pew Stateline Staff Writer  21 s...   \n",
       "1               Neutral  WASHINGTON -- The Senate Judiciary Committee a...   \n",
       "2               Neutral  David Cole is a professor of constitutional la...   \n",
       "3               Neutral  Parts of ObamaCare are starting to fray, even ...   \n",
       "4               Neutral  U.S. Immigration Citizenship and Immigration S...   \n",
       "...                 ...                                                ...   \n",
       "16584  SomewhatNegative  President Obama won reelection in part by beat...   \n",
       "16585  SomewhatNegative  Red-faced Republicans, circling and preparing ...   \n",
       "16586           Neutral  Rep. Steve Stockman’s moment as a viable Senat...   \n",
       "16587  SomewhatNegative  We interrupt this highly partisan and ideologi...   \n",
       "16588  SomewhatNegative  FILE - In this Sept. 27, 2012 file photo, Dona...   \n",
       "\n",
       "       length  democrat.bias  republican.bias  isbiased  \n",
       "0         702            0.0              0.0         0  \n",
       "1        1118            0.0              0.0         0  \n",
       "2        1401            0.0              0.0         0  \n",
       "3         798            0.0              0.0         0  \n",
       "4         947            0.0              0.0         0  \n",
       "...       ...            ...              ...       ...  \n",
       "16584     768            0.5             -0.5         1  \n",
       "16585     805            0.5             -0.5         1  \n",
       "16586     896            0.0              0.0         0  \n",
       "16587     751            0.5             -0.5         1  \n",
       "16588     378            0.5             -0.5         1  \n",
       "\n",
       "[16589 rows x 12 columns]"
      ]
     },
     "execution_count": 17,
     "metadata": {},
     "output_type": "execute_result"
    }
   ],
   "source": [
    "data[\"democrat.bias\"]= data.apply(lambda row: numerizeBias(row[\"democrat.vote\"]), axis = 1) \n",
    "data[\"republican.bias\"]= data.apply(lambda row: numerizeBias(row[\"republican.vote\"]), axis = 1) \n",
    "\n",
    "# data[\"biasmagnitude.democrat\"]=data.apply(lambda row: row[\"democrat.bias\"] + abs(row[\"republican.bias\"]), axis = 1)\n",
    "# data[\"biasmagnitude.republican\"]=data.apply(lambda row: abs(row[\"democrat.bias\"] + abs(row[\"republican.bias\"]), axis = 1)\n",
    "\n",
    "data[\"isbiased\"] = data.apply(lambda row: 0 if row[\"democrat.bias\"]==0 and row[\"republican.bias\"]==0 else 1, axis = 1)\n",
    "data"
   ]
  },
  {
   "cell_type": "code",
   "execution_count": null,
   "id": "dynamic-pitch",
   "metadata": {},
   "outputs": [],
   "source": []
  },
  {
   "cell_type": "code",
   "execution_count": 18,
   "id": "atmospheric-salad",
   "metadata": {},
   "outputs": [
    {
     "data": {
      "text/plain": [
       "<AxesSubplot:>"
      ]
     },
     "execution_count": 18,
     "metadata": {},
     "output_type": "execute_result"
    },
    {
     "data": {
      "image/png": "[encoded data removed]",
      "text/plain": [
       "<Figure size 432x288 with 1 Axes>"
      ]
     },
     "metadata": {
      "needs_background": "light"
     },
     "output_type": "display_data"
    }
   ],
   "source": [
    "data[\"isbiased\"].value_counts().plot.bar()"
   ]
  },
  {
   "cell_type": "code",
   "execution_count": 19,
   "id": "narrow-arena",
   "metadata": {},
   "outputs": [
    {
     "data": {
      "text/plain": [
       "<AxesSubplot:ylabel='Frequency'>"
      ]
     },
     "execution_count": 19,
     "metadata": {},
     "output_type": "execute_result"
    },
    {
     "data": {
      "image/png": "[encoded data removed]",
      "text/plain": [
       "<Figure size 432x288 with 1 Axes>"
      ]
     },
     "metadata": {
      "needs_background": "light"
     },
     "output_type": "display_data"
    }
   ],
   "source": [
    "data[\"democrat.bias\"].plot.hist()"
   ]
  },
  {
   "cell_type": "code",
   "execution_count": 20,
   "id": "rolled-static",
   "metadata": {},
   "outputs": [
    {
     "data": {
      "text/plain": [
       "<AxesSubplot:ylabel='Frequency'>"
      ]
     },
     "execution_count": 20,
     "metadata": {},
     "output_type": "execute_result"
    },
    {
     "data": {
      "image/png": "[encoded data removed]",
      "text/plain": [
       "<Figure size 432x288 with 1 Axes>"
      ]
     },
     "metadata": {
      "needs_background": "light"
     },
     "output_type": "display_data"
    }
   ],
   "source": [
    "data[\"republican.bias\"].plot.hist()"
   ]
  },
  {
   "cell_type": "code",
   "execution_count": 21,
   "id": "traditional-career",
   "metadata": {},
   "outputs": [
    {
     "data": {
      "text/plain": [
       "<AxesSubplot:ylabel='Frequency'>"
      ]
     },
     "execution_count": 21,
     "metadata": {},
     "output_type": "execute_result"
    },
    {
     "data": {
      "image/png": "[encoded data removed]",
      "text/plain": [
       "<Figure size 432x288 with 1 Axes>"
      ]
     },
     "metadata": {
      "needs_background": "light"
     },
     "output_type": "display_data"
    }
   ],
   "source": [
    "data[[\"democrat.bias\", \"republican.bias\"]].plot.hist()"
   ]
  },
  {
   "cell_type": "code",
   "execution_count": 22,
   "id": "occupied-preliminary",
   "metadata": {},
   "outputs": [],
   "source": [
    "data[\"biascategories\"] =  data.apply(lambda row: 0 if row[\"democrat.bias\"]==row[\"republican.bias\"] else (1 if row[\"democrat.bias\"]>row[\"republican.bias\"] else -1), axis = 1)\n",
    "# 1 means bias towards democrats over republicans\n",
    "# -1 means bias towards republicans over democrats\n",
    "# 0 equal bias"
   ]
  },
  {
   "cell_type": "code",
   "execution_count": 23,
   "id": "classified-polyester",
   "metadata": {},
   "outputs": [
    {
     "data": {
      "text/plain": [
       "<AxesSubplot:ylabel='Frequency'>"
      ]
     },
     "execution_count": 23,
     "metadata": {},
     "output_type": "execute_result"
    },
    {
     "data": {
      "image/png": "[encoded data removed]",
      "text/plain": [
       "<Figure size 432x288 with 1 Axes>"
      ]
     },
     "metadata": {
      "needs_background": "light"
     },
     "output_type": "display_data"
    }
   ],
   "source": [
    "data[\"biascategories\"].plot.hist()"
   ]
  },
  {
   "cell_type": "code",
   "execution_count": 24,
   "id": "common-protection",
   "metadata": {},
   "outputs": [],
   "source": [
    "# data[data['biascategories']!=0]"
   ]
  },
  {
   "cell_type": "code",
   "execution_count": 25,
   "id": "satellite-plasma",
   "metadata": {},
   "outputs": [],
   "source": [
    "# for i in range(9,18):\n",
    "#     print(data.loc[i].article)\n",
    "#     print()"
   ]
  },
  {
   "cell_type": "code",
   "execution_count": 26,
   "id": "destroyed-pleasure",
   "metadata": {},
   "outputs": [],
   "source": [
    "# data[\"biasedforeveryone\"] =  data.apply(lambda row: -99 if row[\"democrat.bias\"]>=0 and row[\"republican.bias\"]>=0 else 0, axis = 1)\n",
    "# # high value of biasdiff means high bias towards democrats and against republicans\n",
    "# # low (negative) value of biasdiff means high bias towards republicans and democrats\n",
    "# data[\"biasedforeveryone\"].plot.hist()"
   ]
  },
  {
   "cell_type": "code",
   "execution_count": null,
   "id": "imported-windows",
   "metadata": {},
   "outputs": [],
   "source": []
  },
  {
   "cell_type": "code",
   "execution_count": 27,
   "id": "abstract-malpractice",
   "metadata": {},
   "outputs": [],
   "source": [
    "data.to_csv(\"biaseddata.csv\", sep='\\t')\n"
   ]
  },
  {
   "cell_type": "code",
   "execution_count": null,
   "id": "sustained-wrist",
   "metadata": {},
   "outputs": [],
   "source": []
  },
  {
   "cell_type": "code",
   "execution_count": null,
   "id": "difficult-sleep",
   "metadata": {},
   "outputs": [],
   "source": []
  },
  {
   "cell_type": "code",
   "execution_count": null,
   "id": "angry-miracle",
   "metadata": {},
   "outputs": [],
   "source": []
  },
  {
   "cell_type": "code",
   "execution_count": null,
   "id": "careful-rogers",
   "metadata": {},
   "outputs": [],
   "source": []
  },
  {
   "cell_type": "code",
   "execution_count": null,
   "id": "massive-participant",
   "metadata": {},
   "outputs": [],
   "source": []
  },
  {
   "cell_type": "code",
   "execution_count": 27,
   "id": "surprising-ottawa",
   "metadata": {},
   "outputs": [
    {
     "data": {
      "text/plain": [
       "(9793, 9)"
      ]
     },
     "execution_count": 27,
     "metadata": {},
     "output_type": "execute_result"
    }
   ],
   "source": [
    "data[data['democrat.vote']==data['republican.vote']].shape"
   ]
  },
  {
   "cell_type": "code",
   "execution_count": null,
   "id": "intended-hostel",
   "metadata": {},
   "outputs": [],
   "source": [
    "!pip install -q transformers"
   ]
  },
  {
   "cell_type": "code",
   "execution_count": null,
   "id": "synthetic-chapel",
   "metadata": {},
   "outputs": [],
   "source": [
    "!pip install -q t5"
   ]
  },
  {
   "cell_type": "code",
   "execution_count": 77,
   "id": "vanilla-effectiveness",
   "metadata": {},
   "outputs": [
    {
     "ename": "ImportError",
     "evalue": "\nT5ForConditionalGeneration requires the PyTorch library but it was not found in your environment. Checkout the instructions on the\ninstallation page: https://pytorch.org/get-started/locally/ and follow the ones that match your environment.\n",
     "output_type": "error",
     "traceback": [
      "\u001b[0;31m---------------------------------------------------------------------------\u001b[0m",
      "\u001b[0;31mImportError\u001b[0m                               Traceback (most recent call last)",
      "\u001b[0;32m<ipython-input-77-adf1bf029b1b>\u001b[0m in \u001b[0;36m<module>\u001b[0;34m\u001b[0m\n\u001b[1;32m      2\u001b[0m \u001b[0;32mfrom\u001b[0m \u001b[0mtransformers\u001b[0m \u001b[0;32mimport\u001b[0m \u001b[0mT5Tokenizer\u001b[0m\u001b[0;34m,\u001b[0m \u001b[0mT5Config\u001b[0m\u001b[0;34m\u001b[0m\u001b[0;34m\u001b[0m\u001b[0m\n\u001b[1;32m      3\u001b[0m \u001b[0;34m\u001b[0m\u001b[0m\n\u001b[0;32m----> 4\u001b[0;31m \u001b[0mmodel\u001b[0m \u001b[0;34m=\u001b[0m \u001b[0mT5ForConditionalGeneration\u001b[0m\u001b[0;34m.\u001b[0m\u001b[0mfrom_pretrained\u001b[0m\u001b[0;34m(\u001b[0m\u001b[0;34m't5-small'\u001b[0m\u001b[0;34m)\u001b[0m\u001b[0;34m\u001b[0m\u001b[0;34m\u001b[0m\u001b[0m\n\u001b[0m\u001b[1;32m      5\u001b[0m \u001b[0mtokenizer\u001b[0m \u001b[0;34m=\u001b[0m \u001b[0mT5Tokenizer\u001b[0m\u001b[0;34m.\u001b[0m\u001b[0mfrom_pretrained\u001b[0m\u001b[0;34m(\u001b[0m\u001b[0;34m't5-small'\u001b[0m\u001b[0;34m)\u001b[0m\u001b[0;34m\u001b[0m\u001b[0;34m\u001b[0m\u001b[0m\n",
      "\u001b[0;32m~/miniconda3/envs/tf/lib/python3.7/site-packages/transformers/utils/dummy_pt_objects.py\u001b[0m in \u001b[0;36mfrom_pretrained\u001b[0;34m(self, *args, **kwargs)\u001b[0m\n\u001b[1;32m   1978\u001b[0m     \u001b[0;34m@\u001b[0m\u001b[0mclassmethod\u001b[0m\u001b[0;34m\u001b[0m\u001b[0;34m\u001b[0m\u001b[0m\n\u001b[1;32m   1979\u001b[0m     \u001b[0;32mdef\u001b[0m \u001b[0mfrom_pretrained\u001b[0m\u001b[0;34m(\u001b[0m\u001b[0mself\u001b[0m\u001b[0;34m,\u001b[0m \u001b[0;34m*\u001b[0m\u001b[0margs\u001b[0m\u001b[0;34m,\u001b[0m \u001b[0;34m**\u001b[0m\u001b[0mkwargs\u001b[0m\u001b[0;34m)\u001b[0m\u001b[0;34m:\u001b[0m\u001b[0;34m\u001b[0m\u001b[0;34m\u001b[0m\u001b[0m\n\u001b[0;32m-> 1980\u001b[0;31m         \u001b[0mrequires_pytorch\u001b[0m\u001b[0;34m(\u001b[0m\u001b[0mself\u001b[0m\u001b[0;34m)\u001b[0m\u001b[0;34m\u001b[0m\u001b[0;34m\u001b[0m\u001b[0m\n\u001b[0m\u001b[1;32m   1981\u001b[0m \u001b[0;34m\u001b[0m\u001b[0m\n\u001b[1;32m   1982\u001b[0m \u001b[0;34m\u001b[0m\u001b[0m\n",
      "\u001b[0;32m~/miniconda3/envs/tf/lib/python3.7/site-packages/transformers/file_utils.py\u001b[0m in \u001b[0;36mrequires_pytorch\u001b[0;34m(obj)\u001b[0m\n\u001b[1;32m    429\u001b[0m     \u001b[0mname\u001b[0m \u001b[0;34m=\u001b[0m \u001b[0mobj\u001b[0m\u001b[0;34m.\u001b[0m\u001b[0m__name__\u001b[0m \u001b[0;32mif\u001b[0m \u001b[0mhasattr\u001b[0m\u001b[0;34m(\u001b[0m\u001b[0mobj\u001b[0m\u001b[0;34m,\u001b[0m \u001b[0;34m\"__name__\"\u001b[0m\u001b[0;34m)\u001b[0m \u001b[0;32melse\u001b[0m \u001b[0mobj\u001b[0m\u001b[0;34m.\u001b[0m\u001b[0m__class__\u001b[0m\u001b[0;34m.\u001b[0m\u001b[0m__name__\u001b[0m\u001b[0;34m\u001b[0m\u001b[0;34m\u001b[0m\u001b[0m\n\u001b[1;32m    430\u001b[0m     \u001b[0;32mif\u001b[0m \u001b[0;32mnot\u001b[0m \u001b[0mis_torch_available\u001b[0m\u001b[0;34m(\u001b[0m\u001b[0;34m)\u001b[0m\u001b[0;34m:\u001b[0m\u001b[0;34m\u001b[0m\u001b[0;34m\u001b[0m\u001b[0m\n\u001b[0;32m--> 431\u001b[0;31m         \u001b[0;32mraise\u001b[0m \u001b[0mImportError\u001b[0m\u001b[0;34m(\u001b[0m\u001b[0mPYTORCH_IMPORT_ERROR\u001b[0m\u001b[0;34m.\u001b[0m\u001b[0mformat\u001b[0m\u001b[0;34m(\u001b[0m\u001b[0mname\u001b[0m\u001b[0;34m)\u001b[0m\u001b[0;34m)\u001b[0m\u001b[0;34m\u001b[0m\u001b[0;34m\u001b[0m\u001b[0m\n\u001b[0m\u001b[1;32m    432\u001b[0m \u001b[0;34m\u001b[0m\u001b[0m\n\u001b[1;32m    433\u001b[0m \u001b[0;34m\u001b[0m\u001b[0m\n",
      "\u001b[0;31mImportError\u001b[0m: \nT5ForConditionalGeneration requires the PyTorch library but it was not found in your environment. Checkout the instructions on the\ninstallation page: https://pytorch.org/get-started/locally/ and follow the ones that match your environment.\n"
     ]
    }
   ],
   "source": [
    "from transformers import pipeline\n",
    "from transformers import T5Tokenizer, T5Config\n",
    "\n",
    "model = T5ForConditionalGeneration.from_pretrained('t5-small')\n",
    "tokenizer = T5Tokenizer.from_pretrained('t5-small')"
   ]
  },
  {
   "cell_type": "code",
   "execution_count": null,
   "id": "elect-aluminum",
   "metadata": {},
   "outputs": [],
   "source": []
  },
  {
   "cell_type": "code",
   "execution_count": null,
   "id": "cardiac-vault",
   "metadata": {},
   "outputs": [],
   "source": []
  },
  {
   "cell_type": "code",
   "execution_count": null,
   "id": "saving-burst",
   "metadata": {},
   "outputs": [],
   "source": []
  },
  {
   "cell_type": "code",
   "execution_count": null,
   "id": "owned-blend",
   "metadata": {},
   "outputs": [],
   "source": []
  },
  {
   "cell_type": "code",
   "execution_count": null,
   "id": "based-rugby",
   "metadata": {},
   "outputs": [],
   "source": [
    "stri = data.article[0]"
   ]
  },
  {
   "cell_type": "code",
   "execution_count": null,
   "id": "caring-operator",
   "metadata": {},
   "outputs": [],
   "source": [
    "stri"
   ]
  },
  {
   "cell_type": "code",
   "execution_count": null,
   "id": "proprietary-drunk",
   "metadata": {},
   "outputs": [],
   "source": [
    "stri = re.sub(r\"\\\\.\", \" \", stri)\n",
    "stri"
   ]
  },
  {
   "cell_type": "code",
   "execution_count": null,
   "id": "useful-blend",
   "metadata": {},
   "outputs": [],
   "source": [
    "print(\"\\\\\\d\")"
   ]
  },
  {
   "cell_type": "code",
   "execution_count": 15,
   "id": "chief-seeking",
   "metadata": {},
   "outputs": [
    {
     "ename": "NameError",
     "evalue": "name 'data' is not defined",
     "output_type": "error",
     "traceback": [
      "\u001b[0;31m---------------------------------------------------------------------------\u001b[0m",
      "\u001b[0;31mNameError\u001b[0m                                 Traceback (most recent call last)",
      "\u001b[0;32m<ipython-input-15-304fa4ce4ebd>\u001b[0m in \u001b[0;36m<module>\u001b[0;34m\u001b[0m\n\u001b[0;32m----> 1\u001b[0;31m \u001b[0mdata\u001b[0m\u001b[0;34m.\u001b[0m\u001b[0mhead\u001b[0m\u001b[0;34m(\u001b[0m\u001b[0;34m)\u001b[0m\u001b[0;34m\u001b[0m\u001b[0;34m\u001b[0m\u001b[0m\n\u001b[0m",
      "\u001b[0;31mNameError\u001b[0m: name 'data' is not defined"
     ]
    }
   ],
   "source": [
    "data.head()"
   ]
  },
  {
   "cell_type": "code",
   "execution_count": 26,
   "id": "solid-vietnamese",
   "metadata": {},
   "outputs": [],
   "source": [
    "import transformers\n",
    "from transformers import T5Model, T5Tokenizer\n",
    "from transformers import ElectraModel, ElectraConfig\n",
    "from transformers import pipeline"
   ]
  },
  {
   "cell_type": "code",
   "execution_count": null,
   "id": "three-shadow",
   "metadata": {},
   "outputs": [],
   "source": [
    "!mkdir data\n",
    "!ls -la"
   ]
  },
  {
   "cell_type": "code",
   "execution_count": null,
   "id": "reliable-margin",
   "metadata": {},
   "outputs": [],
   "source": [
    "data_dir = \"./data\"\n",
    "log_dir = f\"{data_dir}/experiments/t5/logs\"\n",
    "save_path = f\"{data_dir}/experiments/t5/models\"\n",
    "cache_path_train = f\"{data_dir}/cache/t5.train\"\n",
    "cache_path_test = f\"{data_dir}/cache/t5.test\""
   ]
  },
  {
   "cell_type": "code",
   "execution_count": 27,
   "id": "regulation-husband",
   "metadata": {},
   "outputs": [
    {
     "name": "stdout",
     "output_type": "stream",
     "text": [
      "The tensorboard extension is already loaded. To reload it, use:\n",
      "  %reload_ext tensorboard\n"
     ]
    }
   ],
   "source": [
    "import tensorflow_datasets as tfds\n",
    "import tensorflow as tf\n",
    "\n",
    "import time\n",
    "import numpy as np\n",
    "import matplotlib.pyplot as plt\n",
    "import tensorflow_datasets as tfds\n",
    "from transformers import (TFAutoModelWithLMHead, AutoTokenizer, \n",
    "    TFTrainer, TFTrainingArguments, TFT5ForConditionalGeneration, T5Config)\n",
    "import datetime\n",
    "import os\n",
    "import ipywidgets\n",
    "%load_ext tensorboard"
   ]
  },
  {
   "cell_type": "code",
   "execution_count": 28,
   "id": "metropolitan-apple",
   "metadata": {},
   "outputs": [],
   "source": [
    "class SnapthatT5(TFT5ForConditionalGeneration):\n",
    "    def __init__(self, *args, log_dir=None, cache_dir= None, **kwargs):\n",
    "        super().__init__(*args, **kwargs)\n",
    "        self.loss_tracker= tf.keras.metrics.Mean(name='loss') \n",
    "    \n",
    "    @tf.function\n",
    "    def train_step(self, data):\n",
    "        x, _= data\n",
    "        y = x[\"labels\"]\n",
    "        y = tf.reshape(y, [-1, 1])\n",
    "        with tf.GradientTape() as tape:\n",
    "            outputs = self(x, training=True)\n",
    "            loss = outputs[0]\n",
    "            logits = outputs[1]\n",
    "            loss = tf.reduce_mean(loss)\n",
    "            \n",
    "            grads = tape.gradient(loss, self.trainable_variables)\n",
    "            \n",
    "        self.optimizer.apply_gradients(zip(grads, self.trainable_variables))\n",
    "        lr = self.optimizer._decayed_lr(tf.float32)\n",
    "        \n",
    "        self.loss_tracker.update_state(loss)        \n",
    "        self.compiled_metrics.update_state(y, logits)\n",
    "        metrics = {m.name: m.result() for m in self.metrics}\n",
    "        metrics.update({'lr': lr})\n",
    "        \n",
    "        return metrics\n",
    "\n",
    "    def test_step(self, data):\n",
    "        x, _ = data\n",
    "        y = x[\"labels\"]\n",
    "        y = tf.reshape(y, [-1, 1])\n",
    "        output = self(x, training=False)\n",
    "        loss = output[0]\n",
    "        loss = tf.reduce_mean(loss)\n",
    "        logits = output[1]\n",
    "        \n",
    "        self.loss_tracker.update_state(loss)\n",
    "        self.compiled_metrics.update_state(y, logits)\n",
    "        return {m.name: m.result() for m in self.metrics}"
   ]
  },
  {
   "cell_type": "code",
   "execution_count": 29,
   "id": "ongoing-shelf",
   "metadata": {},
   "outputs": [],
   "source": [
    "tokenizer = AutoTokenizer.from_pretrained(\"t5-base\", use_fast = False)"
   ]
  },
  {
   "cell_type": "code",
   "execution_count": 30,
   "id": "governing-israeli",
   "metadata": {},
   "outputs": [
    {
     "name": "stderr",
     "output_type": "stream",
     "text": [
      "INFO:absl:No config specified, defaulting to first: squad/v1.1\n",
      "INFO:absl:Load dataset info from /home/ash/tensorflow_datasets/squad/v1.1/2.0.0\n",
      "INFO:absl:Reusing dataset squad (/home/ash/tensorflow_datasets/squad/v1.1/2.0.0)\n",
      "INFO:absl:Constructing tf.data.Dataset for split train, from /home/ash/tensorflow_datasets/squad/v1.1/2.0.0\n",
      "INFO:absl:No config specified, defaulting to first: squad/v1.1\n",
      "INFO:absl:Load dataset info from /home/ash/tensorflow_datasets/squad/v1.1/2.0.0\n",
      "INFO:absl:Reusing dataset squad (/home/ash/tensorflow_datasets/squad/v1.1/2.0.0)\n",
      "INFO:absl:Constructing tf.data.Dataset for split validation, from /home/ash/tensorflow_datasets/squad/v1.1/2.0.0\n"
     ]
    },
    {
     "name": "stdout",
     "output_type": "stream",
     "text": [
      "tfds.core.DatasetInfo(\n",
      "    name='squad',\n",
      "    full_name='squad/v1.1/2.0.0',\n",
      "    description=\"\"\"\n",
      "    Stanford Question Answering Dataset (SQuAD) is a reading comprehension dataset, consisting of questions posed by crowdworkers on a set of Wikipedia articles, where the answer to every question is a segment of text, or span, from the corresponding reading passage, or the question might be unanswerable.\n",
      "    \"\"\",\n",
      "    config_description=\"\"\"\n",
      "    Version 1.1.0 of SQUAD\n",
      "    \"\"\",\n",
      "    homepage='https://rajpurkar.github.io/SQuAD-explorer/',\n",
      "    data_path='/home/ash/tensorflow_datasets/squad/v1.1/2.0.0',\n",
      "    download_size=33.51 MiB,\n",
      "    dataset_size=94.04 MiB,\n",
      "    features=FeaturesDict({\n",
      "        'answers': Sequence({\n",
      "            'answer_start': tf.int32,\n",
      "            'text': Text(shape=(), dtype=tf.string),\n",
      "        }),\n",
      "        'context': Text(shape=(), dtype=tf.string),\n",
      "        'id': tf.string,\n",
      "        'question': Text(shape=(), dtype=tf.string),\n",
      "        'title': Text(shape=(), dtype=tf.string),\n",
      "    }),\n",
      "    supervised_keys=None,\n",
      "    splits={\n",
      "        'train': <SplitInfo num_examples=87599, num_shards=1>,\n",
      "        'validation': <SplitInfo num_examples=10570, num_shards=1>,\n",
      "    },\n",
      "    citation=\"\"\"@article{2016arXiv160605250R,\n",
      "           author = {{Rajpurkar}, Pranav and {Zhang}, Jian and {Lopyrev},\n",
      "                     Konstantin and {Liang}, Percy},\n",
      "            title = \"{SQuAD: 100,000+ Questions for Machine Comprehension of Text}\",\n",
      "          journal = {arXiv e-prints},\n",
      "             year = 2016,\n",
      "              eid = {arXiv:1606.05250},\n",
      "            pages = {arXiv:1606.05250},\n",
      "    archivePrefix = {arXiv},\n",
      "           eprint = {1606.05250},\n",
      "    }\"\"\",\n",
      ")\n"
     ]
    }
   ],
   "source": [
    "\n",
    "\n",
    "train_dataset, info = tfds.load('squad', split='train', with_info=True)\n",
    "valid_dataset = tfds.load('squad', split='validation', with_info=False)\n",
    "print(info)\n",
    "\n"
   ]
  },
  {
   "cell_type": "code",
   "execution_count": 31,
   "id": "middle-recognition",
   "metadata": {},
   "outputs": [
    {
     "name": "stdout",
     "output_type": "stream",
     "text": [
      "Example data from the dataset: \n",
      " {'answers': {'answer_start': <tf.Tensor: shape=(1,), dtype=int32, numpy=array([427], dtype=int32)>, 'text': <tf.Tensor: shape=(1,), dtype=string, numpy=array([b'mobile phones'], dtype=object)>}, 'context': <tf.Tensor: shape=(), dtype=string, numpy=b'The difference in the above factors for the case of \\xce\\xb8=0 is the reason that most broadcasting (transmissions intended for the public) uses vertical polarization. For receivers near the ground, horizontally polarized transmissions suffer cancellation. For best reception the receiving antennas for these signals are likewise vertically polarized. In some applications where the receiving antenna must work in any position, as in mobile phones, the base station antennas use mixed polarization, such as linear polarization at an angle (with both vertical and horizontal components) or circular polarization.'>, 'id': <tf.Tensor: shape=(), dtype=string, numpy=b'57306bf68ab72b1400f9c4dc'>, 'question': <tf.Tensor: shape=(), dtype=string, numpy=b'What is one use that would require an antenna to receive signals in various ways at once?'>, 'title': <tf.Tensor: shape=(), dtype=string, numpy=b'Antenna_(radio)'>}\n"
     ]
    }
   ],
   "source": [
    "\n",
    "\n",
    "data = next(iter(train_dataset))\n",
    "print(\"Example data from the dataset: \\n\", data)\n",
    "\n"
   ]
  },
  {
   "cell_type": "code",
   "execution_count": 32,
   "id": "restricted-cargo",
   "metadata": {},
   "outputs": [
    {
     "name": "stdout",
     "output_type": "stream",
     "text": [
      "Total Steps:  21900\n",
      "Total Validation Steps:  2643\n"
     ]
    }
   ],
   "source": [
    "warmup_steps = 1e4\n",
    "batch_size = 4\n",
    "encoder_max_len = 250\n",
    "decoder_max_len = 54\n",
    "buffer_size = 1000\n",
    "ntrain = info.splits[\"train\"].num_examples\n",
    "nvalid = info.splits[\"validation\"].num_examples\n",
    "steps = int(np.ceil(ntrain/batch_size))\n",
    "valid_steps = int(np.ceil(nvalid/batch_size))\n",
    "print(\"Total Steps: \", steps)\n",
    "print(\"Total Validation Steps: \", valid_steps)"
   ]
  },
  {
   "cell_type": "code",
   "execution_count": 33,
   "id": "rocky-tuesday",
   "metadata": {},
   "outputs": [],
   "source": [
    "def encode(context,question ,answer, \n",
    "           encoder_max_len=encoder_max_len, decoder_max_len=decoder_max_len):\n",
    "    question_plus = f\"answer_me: {str(question.numpy().decode('utf-8'))}\"\n",
    "    question_plus += f\" context: {str(context.numpy().decode('utf-8'))}  </s>\"\n",
    "    \n",
    "    answer_plus = ', '.join([i.decode('utf-8') for i in list(answer.numpy())])\n",
    "    answer_plus = f\"{answer_plus} </s>\"\n",
    "    \n",
    "    encoder_inputs = tokenizer(question_plus, truncation=True, \n",
    "                               return_tensors='tf', max_length=encoder_max_len,\n",
    "                              pad_to_max_length=True)\n",
    "    \n",
    "    decoder_inputs = tokenizer(answer_plus, truncation=True, \n",
    "                               return_tensors='tf', max_length=decoder_max_len,\n",
    "                              pad_to_max_length=True)\n",
    "    \n",
    "    input_ids = encoder_inputs['input_ids'][0]\n",
    "    input_attention = encoder_inputs['attention_mask'][0]\n",
    "    target_ids = decoder_inputs['input_ids'][0]\n",
    "    target_attention = decoder_inputs['attention_mask'][0]\n",
    "    \n",
    "    return input_ids,input_attention, target_ids, target_attention"
   ]
  },
  {
   "cell_type": "code",
   "execution_count": 34,
   "id": "auburn-afternoon",
   "metadata": {},
   "outputs": [],
   "source": [
    "def encode_tf(inputs):\n",
    "    context = inputs['context']\n",
    "    question = inputs['question']\n",
    "    answer = inputs['answers']['text']\n",
    "    encoded = tf.py_function(encode, [context, question, answer], \n",
    "                                           [tf.int32, tf.int32, tf.int32, tf.int32])\n",
    "    input_ids,input_attention, target_ids,target_attention = encoded\n",
    "    input_ids.set_shape([None])\n",
    "    target_ids.set_shape([None])\n",
    "    input_attention.set_shape([None])\n",
    "    target_attention.set_shape([None])\n",
    "    \n",
    "#     labels = tf.reshape(target_ids, [-1, 1])\n",
    "    data=  {'input_ids': input_ids, #'decoder_input_ids': target_ids, \n",
    "            'labels': target_ids, \n",
    "            'attention_mask': input_attention,\n",
    "           'decoder_attention_mask': target_attention}\n",
    "    return (data, None)"
   ]
  },
  {
   "cell_type": "code",
   "execution_count": 35,
   "id": "latin-afternoon",
   "metadata": {},
   "outputs": [],
   "source": [
    "def create_dataset(source_dataset, cache_path=None, batch_size=4, \n",
    "                   buffer_size= 1000, shuffling=True):\n",
    "    dataset = source_dataset.map(encode_tf, num_parallel_calls=tf.data.experimental.AUTOTUNE)\n",
    "    \n",
    "    if cache_path is not None:\n",
    "        dataset = dataset.cache(cache_path)        \n",
    "    if shuffling:\n",
    "        dataset = dataset.shuffle(buffer_size)\n",
    "    dataset = dataset.batch(batch_size)\n",
    "    dataset = dataset.prefetch(tf.data.experimental.AUTOTUNE)\n",
    "    return dataset\n"
   ]
  },
  {
   "cell_type": "code",
   "execution_count": 36,
   "id": "floppy-chicken",
   "metadata": {},
   "outputs": [],
   "source": [
    "\n",
    "\n",
    "train_ds= create_dataset(train_dataset, batch_size=batch_size, \n",
    "                         shuffling=True, cache_path = None)\n",
    "valid_ds = create_dataset(valid_dataset, batch_size=batch_size, \n",
    "                         shuffling=False, cache_path = None)\n",
    "\n"
   ]
  },
  {
   "cell_type": "code",
   "execution_count": 37,
   "id": "usual-somalia",
   "metadata": {},
   "outputs": [
    {
     "ename": "UnknownError",
     "evalue": "RuntimeError: Already borrowed\nTraceback (most recent call last):\n\n  File \"/home/ash/miniconda3/envs/tf/lib/python3.7/site-packages/tensorflow/python/ops/script_ops.py\", line 242, in __call__\n    return func(device, token, args)\n\n  File \"/home/ash/miniconda3/envs/tf/lib/python3.7/site-packages/tensorflow/python/ops/script_ops.py\", line 131, in __call__\n    ret = self._func(*args)\n\n  File \"/home/ash/miniconda3/envs/tf/lib/python3.7/site-packages/tensorflow/python/autograph/impl/api.py\", line 302, in wrapper\n    return func(*args, **kwargs)\n\n  File \"<ipython-input-33-cec5a4c25e08>\", line 11, in encode\n    pad_to_max_length=True)\n\n  File \"/home/ash/miniconda3/envs/tf/lib/python3.7/site-packages/transformers/tokenization_utils_base.py\", line 2356, in __call__\n    **kwargs,\n\n  File \"/home/ash/miniconda3/envs/tf/lib/python3.7/site-packages/transformers/tokenization_utils_base.py\", line 2426, in encode_plus\n    **kwargs,\n\n  File \"/home/ash/miniconda3/envs/tf/lib/python3.7/site-packages/transformers/tokenization_utils_fast.py\", line 465, in _encode_plus\n    **kwargs,\n\n  File \"/home/ash/miniconda3/envs/tf/lib/python3.7/site-packages/transformers/tokenization_utils_fast.py\", line 372, in _batch_encode_plus\n    pad_to_multiple_of=pad_to_multiple_of,\n\n  File \"/home/ash/miniconda3/envs/tf/lib/python3.7/site-packages/transformers/tokenization_utils_fast.py\", line 323, in set_truncation_and_padding\n    self._tokenizer.enable_truncation(max_length, stride=stride, strategy=truncation_strategy.value)\n\nRuntimeError: Already borrowed\n\n\n\t [[{{node EagerPyFunc}}]]",
     "output_type": "error",
     "traceback": [
      "\u001b[0;31m---------------------------------------------------------------------------\u001b[0m",
      "\u001b[0;31mUnknownError\u001b[0m                              Traceback (most recent call last)",
      "\u001b[0;32m~/miniconda3/envs/tf/lib/python3.7/site-packages/tensorflow/python/eager/context.py\u001b[0m in \u001b[0;36mexecution_mode\u001b[0;34m(mode)\u001b[0m\n\u001b[1;32m   2101\u001b[0m       \u001b[0mctx\u001b[0m\u001b[0;34m.\u001b[0m\u001b[0mexecutor\u001b[0m \u001b[0;34m=\u001b[0m \u001b[0mexecutor_new\u001b[0m\u001b[0;34m\u001b[0m\u001b[0;34m\u001b[0m\u001b[0m\n\u001b[0;32m-> 2102\u001b[0;31m       \u001b[0;32myield\u001b[0m\u001b[0;34m\u001b[0m\u001b[0;34m\u001b[0m\u001b[0m\n\u001b[0m\u001b[1;32m   2103\u001b[0m     \u001b[0;32mfinally\u001b[0m\u001b[0;34m:\u001b[0m\u001b[0;34m\u001b[0m\u001b[0;34m\u001b[0m\u001b[0m\n",
      "\u001b[0;32m~/miniconda3/envs/tf/lib/python3.7/site-packages/tensorflow/python/data/ops/iterator_ops.py\u001b[0m in \u001b[0;36m_next_internal\u001b[0;34m(self)\u001b[0m\n\u001b[1;32m    757\u001b[0m             \u001b[0moutput_types\u001b[0m\u001b[0;34m=\u001b[0m\u001b[0mself\u001b[0m\u001b[0;34m.\u001b[0m\u001b[0m_flat_output_types\u001b[0m\u001b[0;34m,\u001b[0m\u001b[0;34m\u001b[0m\u001b[0;34m\u001b[0m\u001b[0m\n\u001b[0;32m--> 758\u001b[0;31m             output_shapes=self._flat_output_shapes)\n\u001b[0m\u001b[1;32m    759\u001b[0m \u001b[0;34m\u001b[0m\u001b[0m\n",
      "\u001b[0;32m~/miniconda3/envs/tf/lib/python3.7/site-packages/tensorflow/python/ops/gen_dataset_ops.py\u001b[0m in \u001b[0;36miterator_get_next\u001b[0;34m(iterator, output_types, output_shapes, name)\u001b[0m\n\u001b[1;32m   2609\u001b[0m     \u001b[0;32mexcept\u001b[0m \u001b[0m_core\u001b[0m\u001b[0;34m.\u001b[0m\u001b[0m_NotOkStatusException\u001b[0m \u001b[0;32mas\u001b[0m \u001b[0me\u001b[0m\u001b[0;34m:\u001b[0m\u001b[0;34m\u001b[0m\u001b[0;34m\u001b[0m\u001b[0m\n\u001b[0;32m-> 2610\u001b[0;31m       \u001b[0m_ops\u001b[0m\u001b[0;34m.\u001b[0m\u001b[0mraise_from_not_ok_status\u001b[0m\u001b[0;34m(\u001b[0m\u001b[0me\u001b[0m\u001b[0;34m,\u001b[0m \u001b[0mname\u001b[0m\u001b[0;34m)\u001b[0m\u001b[0;34m\u001b[0m\u001b[0;34m\u001b[0m\u001b[0m\n\u001b[0m\u001b[1;32m   2611\u001b[0m     \u001b[0;32mexcept\u001b[0m \u001b[0m_core\u001b[0m\u001b[0;34m.\u001b[0m\u001b[0m_FallbackException\u001b[0m\u001b[0;34m:\u001b[0m\u001b[0;34m\u001b[0m\u001b[0;34m\u001b[0m\u001b[0m\n",
      "\u001b[0;32m~/miniconda3/envs/tf/lib/python3.7/site-packages/tensorflow/python/framework/ops.py\u001b[0m in \u001b[0;36mraise_from_not_ok_status\u001b[0;34m(e, name)\u001b[0m\n\u001b[1;32m   6842\u001b[0m   \u001b[0;31m# pylint: disable=protected-access\u001b[0m\u001b[0;34m\u001b[0m\u001b[0;34m\u001b[0m\u001b[0;34m\u001b[0m\u001b[0m\n\u001b[0;32m-> 6843\u001b[0;31m   \u001b[0msix\u001b[0m\u001b[0;34m.\u001b[0m\u001b[0mraise_from\u001b[0m\u001b[0;34m(\u001b[0m\u001b[0mcore\u001b[0m\u001b[0;34m.\u001b[0m\u001b[0m_status_to_exception\u001b[0m\u001b[0;34m(\u001b[0m\u001b[0me\u001b[0m\u001b[0;34m.\u001b[0m\u001b[0mcode\u001b[0m\u001b[0;34m,\u001b[0m \u001b[0mmessage\u001b[0m\u001b[0;34m)\u001b[0m\u001b[0;34m,\u001b[0m \u001b[0;32mNone\u001b[0m\u001b[0;34m)\u001b[0m\u001b[0;34m\u001b[0m\u001b[0;34m\u001b[0m\u001b[0m\n\u001b[0m\u001b[1;32m   6844\u001b[0m   \u001b[0;31m# pylint: enable=protected-access\u001b[0m\u001b[0;34m\u001b[0m\u001b[0;34m\u001b[0m\u001b[0;34m\u001b[0m\u001b[0m\n",
      "\u001b[0;32m~/miniconda3/envs/tf/lib/python3.7/site-packages/six.py\u001b[0m in \u001b[0;36mraise_from\u001b[0;34m(value, from_value)\u001b[0m\n",
      "\u001b[0;31mUnknownError\u001b[0m: RuntimeError: Already borrowed\nTraceback (most recent call last):\n\n  File \"/home/ash/miniconda3/envs/tf/lib/python3.7/site-packages/tensorflow/python/ops/script_ops.py\", line 242, in __call__\n    return func(device, token, args)\n\n  File \"/home/ash/miniconda3/envs/tf/lib/python3.7/site-packages/tensorflow/python/ops/script_ops.py\", line 131, in __call__\n    ret = self._func(*args)\n\n  File \"/home/ash/miniconda3/envs/tf/lib/python3.7/site-packages/tensorflow/python/autograph/impl/api.py\", line 302, in wrapper\n    return func(*args, **kwargs)\n\n  File \"<ipython-input-33-cec5a4c25e08>\", line 11, in encode\n    pad_to_max_length=True)\n\n  File \"/home/ash/miniconda3/envs/tf/lib/python3.7/site-packages/transformers/tokenization_utils_base.py\", line 2356, in __call__\n    **kwargs,\n\n  File \"/home/ash/miniconda3/envs/tf/lib/python3.7/site-packages/transformers/tokenization_utils_base.py\", line 2426, in encode_plus\n    **kwargs,\n\n  File \"/home/ash/miniconda3/envs/tf/lib/python3.7/site-packages/transformers/tokenization_utils_fast.py\", line 465, in _encode_plus\n    **kwargs,\n\n  File \"/home/ash/miniconda3/envs/tf/lib/python3.7/site-packages/transformers/tokenization_utils_fast.py\", line 372, in _batch_encode_plus\n    pad_to_multiple_of=pad_to_multiple_of,\n\n  File \"/home/ash/miniconda3/envs/tf/lib/python3.7/site-packages/transformers/tokenization_utils_fast.py\", line 323, in set_truncation_and_padding\n    self._tokenizer.enable_truncation(max_length, stride=stride, strategy=truncation_strategy.value)\n\nRuntimeError: Already borrowed\n\n\n\t [[{{node EagerPyFunc}}]] [Op:IteratorGetNext]",
      "\nDuring handling of the above exception, another exception occurred:\n",
      "\u001b[0;31mUnknownError\u001b[0m                              Traceback (most recent call last)",
      "\u001b[0;32m<ipython-input-37-f39f02855bf8>\u001b[0m in \u001b[0;36m<module>\u001b[0;34m\u001b[0m\n\u001b[0;32m----> 1\u001b[0;31m \u001b[0mdata\u001b[0m \u001b[0;34m=\u001b[0m \u001b[0mnext\u001b[0m\u001b[0;34m(\u001b[0m\u001b[0miter\u001b[0m\u001b[0;34m(\u001b[0m\u001b[0mtrain_ds\u001b[0m\u001b[0;34m)\u001b[0m\u001b[0;34m)\u001b[0m\u001b[0;34m\u001b[0m\u001b[0;34m\u001b[0m\u001b[0m\n\u001b[0m\u001b[1;32m      2\u001b[0m \u001b[0mdata\u001b[0m\u001b[0;34m\u001b[0m\u001b[0;34m\u001b[0m\u001b[0m\n\u001b[1;32m      3\u001b[0m \u001b[0;34m\u001b[0m\u001b[0m\n",
      "\u001b[0;32m~/miniconda3/envs/tf/lib/python3.7/site-packages/tensorflow/python/data/ops/iterator_ops.py\u001b[0m in \u001b[0;36m__next__\u001b[0;34m(self)\u001b[0m\n\u001b[1;32m    734\u001b[0m \u001b[0;34m\u001b[0m\u001b[0m\n\u001b[1;32m    735\u001b[0m   \u001b[0;32mdef\u001b[0m \u001b[0m__next__\u001b[0m\u001b[0;34m(\u001b[0m\u001b[0mself\u001b[0m\u001b[0;34m)\u001b[0m\u001b[0;34m:\u001b[0m  \u001b[0;31m# For Python 3 compatibility\u001b[0m\u001b[0;34m\u001b[0m\u001b[0;34m\u001b[0m\u001b[0m\n\u001b[0;32m--> 736\u001b[0;31m     \u001b[0;32mreturn\u001b[0m \u001b[0mself\u001b[0m\u001b[0;34m.\u001b[0m\u001b[0mnext\u001b[0m\u001b[0;34m(\u001b[0m\u001b[0;34m)\u001b[0m\u001b[0;34m\u001b[0m\u001b[0;34m\u001b[0m\u001b[0m\n\u001b[0m\u001b[1;32m    737\u001b[0m \u001b[0;34m\u001b[0m\u001b[0m\n\u001b[1;32m    738\u001b[0m   \u001b[0;32mdef\u001b[0m \u001b[0m_next_internal\u001b[0m\u001b[0;34m(\u001b[0m\u001b[0mself\u001b[0m\u001b[0;34m)\u001b[0m\u001b[0;34m:\u001b[0m\u001b[0;34m\u001b[0m\u001b[0;34m\u001b[0m\u001b[0m\n",
      "\u001b[0;32m~/miniconda3/envs/tf/lib/python3.7/site-packages/tensorflow/python/data/ops/iterator_ops.py\u001b[0m in \u001b[0;36mnext\u001b[0;34m(self)\u001b[0m\n\u001b[1;32m    770\u001b[0m   \u001b[0;32mdef\u001b[0m \u001b[0mnext\u001b[0m\u001b[0;34m(\u001b[0m\u001b[0mself\u001b[0m\u001b[0;34m)\u001b[0m\u001b[0;34m:\u001b[0m\u001b[0;34m\u001b[0m\u001b[0;34m\u001b[0m\u001b[0m\n\u001b[1;32m    771\u001b[0m     \u001b[0;32mtry\u001b[0m\u001b[0;34m:\u001b[0m\u001b[0;34m\u001b[0m\u001b[0;34m\u001b[0m\u001b[0m\n\u001b[0;32m--> 772\u001b[0;31m       \u001b[0;32mreturn\u001b[0m \u001b[0mself\u001b[0m\u001b[0;34m.\u001b[0m\u001b[0m_next_internal\u001b[0m\u001b[0;34m(\u001b[0m\u001b[0;34m)\u001b[0m\u001b[0;34m\u001b[0m\u001b[0;34m\u001b[0m\u001b[0m\n\u001b[0m\u001b[1;32m    773\u001b[0m     \u001b[0;32mexcept\u001b[0m \u001b[0merrors\u001b[0m\u001b[0;34m.\u001b[0m\u001b[0mOutOfRangeError\u001b[0m\u001b[0;34m:\u001b[0m\u001b[0;34m\u001b[0m\u001b[0;34m\u001b[0m\u001b[0m\n\u001b[1;32m    774\u001b[0m       \u001b[0;32mraise\u001b[0m \u001b[0mStopIteration\u001b[0m\u001b[0;34m\u001b[0m\u001b[0;34m\u001b[0m\u001b[0m\n",
      "\u001b[0;32m~/miniconda3/envs/tf/lib/python3.7/site-packages/tensorflow/python/data/ops/iterator_ops.py\u001b[0m in \u001b[0;36m_next_internal\u001b[0;34m(self)\u001b[0m\n\u001b[1;32m    762\u001b[0m         \u001b[0;32mreturn\u001b[0m \u001b[0mself\u001b[0m\u001b[0;34m.\u001b[0m\u001b[0m_element_spec\u001b[0m\u001b[0;34m.\u001b[0m\u001b[0m_from_compatible_tensor_list\u001b[0m\u001b[0;34m(\u001b[0m\u001b[0mret\u001b[0m\u001b[0;34m)\u001b[0m  \u001b[0;31m# pylint: disable=protected-access\u001b[0m\u001b[0;34m\u001b[0m\u001b[0;34m\u001b[0m\u001b[0m\n\u001b[1;32m    763\u001b[0m       \u001b[0;32mexcept\u001b[0m \u001b[0mAttributeError\u001b[0m\u001b[0;34m:\u001b[0m\u001b[0;34m\u001b[0m\u001b[0;34m\u001b[0m\u001b[0m\n\u001b[0;32m--> 764\u001b[0;31m         \u001b[0;32mreturn\u001b[0m \u001b[0mstructure\u001b[0m\u001b[0;34m.\u001b[0m\u001b[0mfrom_compatible_tensor_list\u001b[0m\u001b[0;34m(\u001b[0m\u001b[0mself\u001b[0m\u001b[0;34m.\u001b[0m\u001b[0m_element_spec\u001b[0m\u001b[0;34m,\u001b[0m \u001b[0mret\u001b[0m\u001b[0;34m)\u001b[0m\u001b[0;34m\u001b[0m\u001b[0;34m\u001b[0m\u001b[0m\n\u001b[0m\u001b[1;32m    765\u001b[0m \u001b[0;34m\u001b[0m\u001b[0m\n\u001b[1;32m    766\u001b[0m   \u001b[0;34m@\u001b[0m\u001b[0mproperty\u001b[0m\u001b[0;34m\u001b[0m\u001b[0;34m\u001b[0m\u001b[0m\n",
      "\u001b[0;32m~/miniconda3/envs/tf/lib/python3.7/contextlib.py\u001b[0m in \u001b[0;36m__exit__\u001b[0;34m(self, type, value, traceback)\u001b[0m\n\u001b[1;32m    128\u001b[0m                 \u001b[0mvalue\u001b[0m \u001b[0;34m=\u001b[0m \u001b[0mtype\u001b[0m\u001b[0;34m(\u001b[0m\u001b[0;34m)\u001b[0m\u001b[0;34m\u001b[0m\u001b[0;34m\u001b[0m\u001b[0m\n\u001b[1;32m    129\u001b[0m             \u001b[0;32mtry\u001b[0m\u001b[0;34m:\u001b[0m\u001b[0;34m\u001b[0m\u001b[0;34m\u001b[0m\u001b[0m\n\u001b[0;32m--> 130\u001b[0;31m                 \u001b[0mself\u001b[0m\u001b[0;34m.\u001b[0m\u001b[0mgen\u001b[0m\u001b[0;34m.\u001b[0m\u001b[0mthrow\u001b[0m\u001b[0;34m(\u001b[0m\u001b[0mtype\u001b[0m\u001b[0;34m,\u001b[0m \u001b[0mvalue\u001b[0m\u001b[0;34m,\u001b[0m \u001b[0mtraceback\u001b[0m\u001b[0;34m)\u001b[0m\u001b[0;34m\u001b[0m\u001b[0;34m\u001b[0m\u001b[0m\n\u001b[0m\u001b[1;32m    131\u001b[0m             \u001b[0;32mexcept\u001b[0m \u001b[0mStopIteration\u001b[0m \u001b[0;32mas\u001b[0m \u001b[0mexc\u001b[0m\u001b[0;34m:\u001b[0m\u001b[0;34m\u001b[0m\u001b[0;34m\u001b[0m\u001b[0m\n\u001b[1;32m    132\u001b[0m                 \u001b[0;31m# Suppress StopIteration *unless* it's the same exception that\u001b[0m\u001b[0;34m\u001b[0m\u001b[0;34m\u001b[0m\u001b[0;34m\u001b[0m\u001b[0m\n",
      "\u001b[0;32m~/miniconda3/envs/tf/lib/python3.7/site-packages/tensorflow/python/eager/context.py\u001b[0m in \u001b[0;36mexecution_mode\u001b[0;34m(mode)\u001b[0m\n\u001b[1;32m   2103\u001b[0m     \u001b[0;32mfinally\u001b[0m\u001b[0;34m:\u001b[0m\u001b[0;34m\u001b[0m\u001b[0;34m\u001b[0m\u001b[0m\n\u001b[1;32m   2104\u001b[0m       \u001b[0mctx\u001b[0m\u001b[0;34m.\u001b[0m\u001b[0mexecutor\u001b[0m \u001b[0;34m=\u001b[0m \u001b[0mexecutor_old\u001b[0m\u001b[0;34m\u001b[0m\u001b[0;34m\u001b[0m\u001b[0m\n\u001b[0;32m-> 2105\u001b[0;31m       \u001b[0mexecutor_new\u001b[0m\u001b[0;34m.\u001b[0m\u001b[0mwait\u001b[0m\u001b[0;34m(\u001b[0m\u001b[0;34m)\u001b[0m\u001b[0;34m\u001b[0m\u001b[0;34m\u001b[0m\u001b[0m\n\u001b[0m\u001b[1;32m   2106\u001b[0m \u001b[0;34m\u001b[0m\u001b[0m\n\u001b[1;32m   2107\u001b[0m \u001b[0;34m\u001b[0m\u001b[0m\n",
      "\u001b[0;32m~/miniconda3/envs/tf/lib/python3.7/site-packages/tensorflow/python/eager/executor.py\u001b[0m in \u001b[0;36mwait\u001b[0;34m(self)\u001b[0m\n\u001b[1;32m     65\u001b[0m   \u001b[0;32mdef\u001b[0m \u001b[0mwait\u001b[0m\u001b[0;34m(\u001b[0m\u001b[0mself\u001b[0m\u001b[0;34m)\u001b[0m\u001b[0;34m:\u001b[0m\u001b[0;34m\u001b[0m\u001b[0;34m\u001b[0m\u001b[0m\n\u001b[1;32m     66\u001b[0m     \u001b[0;34m\"\"\"Waits for ops dispatched in this executor to finish.\"\"\"\u001b[0m\u001b[0;34m\u001b[0m\u001b[0;34m\u001b[0m\u001b[0m\n\u001b[0;32m---> 67\u001b[0;31m     \u001b[0mpywrap_tfe\u001b[0m\u001b[0;34m.\u001b[0m\u001b[0mTFE_ExecutorWaitForAllPendingNodes\u001b[0m\u001b[0;34m(\u001b[0m\u001b[0mself\u001b[0m\u001b[0;34m.\u001b[0m\u001b[0m_handle\u001b[0m\u001b[0;34m)\u001b[0m\u001b[0;34m\u001b[0m\u001b[0;34m\u001b[0m\u001b[0m\n\u001b[0m\u001b[1;32m     68\u001b[0m \u001b[0;34m\u001b[0m\u001b[0m\n\u001b[1;32m     69\u001b[0m   \u001b[0;32mdef\u001b[0m \u001b[0mclear_error\u001b[0m\u001b[0;34m(\u001b[0m\u001b[0mself\u001b[0m\u001b[0;34m)\u001b[0m\u001b[0;34m:\u001b[0m\u001b[0;34m\u001b[0m\u001b[0;34m\u001b[0m\u001b[0m\n",
      "\u001b[0;31mUnknownError\u001b[0m: RuntimeError: Already borrowed\nTraceback (most recent call last):\n\n  File \"/home/ash/miniconda3/envs/tf/lib/python3.7/site-packages/tensorflow/python/ops/script_ops.py\", line 242, in __call__\n    return func(device, token, args)\n\n  File \"/home/ash/miniconda3/envs/tf/lib/python3.7/site-packages/tensorflow/python/ops/script_ops.py\", line 131, in __call__\n    ret = self._func(*args)\n\n  File \"/home/ash/miniconda3/envs/tf/lib/python3.7/site-packages/tensorflow/python/autograph/impl/api.py\", line 302, in wrapper\n    return func(*args, **kwargs)\n\n  File \"<ipython-input-33-cec5a4c25e08>\", line 11, in encode\n    pad_to_max_length=True)\n\n  File \"/home/ash/miniconda3/envs/tf/lib/python3.7/site-packages/transformers/tokenization_utils_base.py\", line 2356, in __call__\n    **kwargs,\n\n  File \"/home/ash/miniconda3/envs/tf/lib/python3.7/site-packages/transformers/tokenization_utils_base.py\", line 2426, in encode_plus\n    **kwargs,\n\n  File \"/home/ash/miniconda3/envs/tf/lib/python3.7/site-packages/transformers/tokenization_utils_fast.py\", line 465, in _encode_plus\n    **kwargs,\n\n  File \"/home/ash/miniconda3/envs/tf/lib/python3.7/site-packages/transformers/tokenization_utils_fast.py\", line 372, in _batch_encode_plus\n    pad_to_multiple_of=pad_to_multiple_of,\n\n  File \"/home/ash/miniconda3/envs/tf/lib/python3.7/site-packages/transformers/tokenization_utils_fast.py\", line 323, in set_truncation_and_padding\n    self._tokenizer.enable_truncation(max_length, stride=stride, strategy=truncation_strategy.value)\n\nRuntimeError: Already borrowed\n\n\n\t [[{{node EagerPyFunc}}]]"
     ]
    }
   ],
   "source": [
    "\n",
    "\n",
    "data = next(iter(train_ds))\n",
    "data\n",
    "\n"
   ]
  },
  {
   "cell_type": "code",
   "execution_count": null,
   "id": "sufficient-indianapolis",
   "metadata": {},
   "outputs": [],
   "source": []
  }
 ],
 "metadata": {
  "kernelspec": {
   "display_name": "Python 3",
   "language": "python",
   "name": "python3"
  },
  "language_info": {
   "codemirror_mode": {
    "name": "ipython",
    "version": 3
   },
   "file_extension": ".py",
   "mimetype": "text/x-python",
   "name": "python",
   "nbconvert_exporter": "python",
   "pygments_lexer": "ipython3",
   "version": "3.7.9"
  }
 },
 "nbformat": 4,
 "nbformat_minor": 5
}
